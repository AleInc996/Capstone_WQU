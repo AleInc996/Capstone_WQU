{
 "cells": [
  {
   "cell_type": "code",
   "execution_count": 1,
   "id": "f0be308e-8bfd-43ab-969e-719c752585d1",
   "metadata": {},
   "outputs": [],
   "source": [
    "# installing requirements from txt file\n",
    "#pip install -r requirements.txt"
   ]
  },
  {
   "cell_type": "code",
   "execution_count": 1,
   "id": "c22fe061-93b0-4c0c-9734-739447f3c684",
   "metadata": {},
   "outputs": [],
   "source": [
    "# importing necessary libraries\n",
    "import pandas as pd\n",
    "import numpy as np\n",
    "from tensorflow.keras.models import Sequential\n",
    "from tensorflow.keras.layers import Dense, LSTM, Dropout\n",
    "from sklearn.preprocessing import StandardScaler\n",
    "from sklearn.model_selection import train_test_split\n",
    "import yfinance as yf\n",
    "from datetime import datetime\n",
    "from sklearn.metrics import mean_squared_error\n",
    "import tensorflow as tf\n",
    "from tensorflow.keras.models import Model\n",
    "from tensorflow.keras.layers import Input, Layer, LayerNormalization, GlobalAveragePooling1D, Embedding\n",
    "import seaborn as sns\n",
    "import matplotlib.pyplot as plt"
   ]
  },
  {
   "cell_type": "markdown",
   "id": "76174503-7d02-40be-aef3-52a71966cac1",
   "metadata": {},
   "source": [
    "# **Step 1: Data retrieval and indicators calculation**"
   ]
  },
  {
   "cell_type": "markdown",
   "id": "0bb11add-05d5-4cd9-a3c0-162ae5bb910b",
   "metadata": {},
   "source": [
    "The idea is to consider a portfolio made only of SPY ETF, as it has been seen that holding an ETF which replicates the Standard and Poor 500 can be one of the best investments you can make."
   ]
  },
  {
   "cell_type": "code",
   "execution_count": 2,
   "id": "e8a26c74-a4a2-4d2b-8630-30ce96f8a717",
   "metadata": {},
   "outputs": [
    {
     "name": "stderr",
     "output_type": "stream",
     "text": [
      "[*********************100%***********************]  1 of 1 completed\n"
     ]
    },
    {
     "data": {
      "text/plain": [
       "Date\n",
       "2005-07-01     85.602936\n",
       "2005-08-01     84.800461\n",
       "2005-09-01     85.118668\n",
       "2005-10-01     83.459290\n",
       "2005-11-01     87.127541\n",
       "                 ...    \n",
       "2024-08-01    560.071289\n",
       "2024-09-01    570.086792\n",
       "2024-10-01    566.732605\n",
       "2024-11-01    600.528809\n",
       "2024-12-01    584.114075\n",
       "Name: Adj Close, Length: 234, dtype: float64"
      ]
     },
     "execution_count": 2,
     "metadata": {},
     "output_type": "execute_result"
    }
   ],
   "source": [
    "# downloading monthly prices of the SPY ETF, as VIX data will be monthly and therefore we keep returns as monthly\n",
    "spy_prices = yf.download('SPY', start = '2005-07-01', end = '2024-12-31', interval = '1mo', multi_level_index = False, auto_adjust = False) # starting since when we have availability for the VIX futures historical term structure\n",
    "#if isinstance(spy_prices.columns, pd.MultiIndex):\n",
    "    #spy_prices = spy_prices.xs(key=\"SPY\", axis=1, level=1)\n",
    "spy_prices = spy_prices['Adj Close'] # taking only adjusted close prices\n",
    "spy_prices"
   ]
  },
  {
   "cell_type": "code",
   "execution_count": 3,
   "id": "b79d8df0-5170-4982-98e8-6b2c20a6cbe4",
   "metadata": {},
   "outputs": [
    {
     "data": {
      "text/plain": [
       "Date\n",
       "2005-08-01   -0.009374\n",
       "2005-09-01    0.003752\n",
       "2005-10-01   -0.019495\n",
       "2005-11-01    0.043953\n",
       "2005-12-01   -0.007177\n",
       "                ...   \n",
       "2024-08-01    0.023365\n",
       "2024-09-01    0.017883\n",
       "2024-10-01   -0.005884\n",
       "2024-11-01    0.059633\n",
       "2024-12-01   -0.027334\n",
       "Name: SPY returns, Length: 233, dtype: float64"
      ]
     },
     "execution_count": 3,
     "metadata": {},
     "output_type": "execute_result"
    }
   ],
   "source": [
    "spy_rets = spy_prices.pct_change().dropna() # computing returns and dropping NAs (most importantly, dropping the first observation)\n",
    "spy_rets.rename('SPY returns', inplace = True) # renaming the column as now we have returns and not prices\n",
    "spy_rets"
   ]
  },
  {
   "cell_type": "markdown",
   "id": "b3b8b83c-bb1e-419a-9699-9e9bc6aa7000",
   "metadata": {},
   "source": [
    "Next, we upload VIX future (UX1 index) term structure data downloaded from Bloomberg as of January 2025, for the next months of 2025. The idea is to use this data for forecasting SPY returns for the year 2025 and, more in general, to predict scenarios of what will happen in the upcoming months and how our strategy works:"
   ]
  },
  {
   "cell_type": "code",
   "execution_count": 4,
   "id": "548427c1-8472-46cd-838b-a51c5055b92b",
   "metadata": {},
   "outputs": [
    {
     "name": "stderr",
     "output_type": "stream",
     "text": [
      "C:\\Users\\Alessio Incelli\\AppData\\Local\\Temp\\ipykernel_27952\\222383742.py:5: SettingWithCopyWarning: \n",
      "A value is trying to be set on a copy of a slice from a DataFrame\n",
      "\n",
      "See the caveats in the documentation: https://pandas.pydata.org/pandas-docs/stable/user_guide/indexing.html#returning-a-view-versus-a-copy\n",
      "  vix_data_ahead['Period'][i] = datetime.strptime(vix_data_ahead['Period'][i], '%m/%Y')\n"
     ]
    },
    {
     "data": {
      "text/html": [
       "<div>\n",
       "<style scoped>\n",
       "    .dataframe tbody tr th:only-of-type {\n",
       "        vertical-align: middle;\n",
       "    }\n",
       "\n",
       "    .dataframe tbody tr th {\n",
       "        vertical-align: top;\n",
       "    }\n",
       "\n",
       "    .dataframe thead th {\n",
       "        text-align: right;\n",
       "    }\n",
       "</style>\n",
       "<table border=\"1\" class=\"dataframe\">\n",
       "  <thead>\n",
       "    <tr style=\"text-align: right;\">\n",
       "      <th></th>\n",
       "      <th>Tenor</th>\n",
       "      <th>Ticker</th>\n",
       "      <th>Period</th>\n",
       "      <th>Last Price</th>\n",
       "      <th>Days to expiration</th>\n",
       "    </tr>\n",
       "  </thead>\n",
       "  <tbody>\n",
       "    <tr>\n",
       "      <th>1</th>\n",
       "      <td>Spot</td>\n",
       "      <td>VIX Index</td>\n",
       "      <td>Spot</td>\n",
       "      <td>15.9700</td>\n",
       "      <td>0.0</td>\n",
       "    </tr>\n",
       "    <tr>\n",
       "      <th>2</th>\n",
       "      <td>1M</td>\n",
       "      <td>UXF5 Index</td>\n",
       "      <td>2025-01-01 00:00:00</td>\n",
       "      <td>16.1792</td>\n",
       "      <td>30.0</td>\n",
       "    </tr>\n",
       "    <tr>\n",
       "      <th>3</th>\n",
       "      <td>1M</td>\n",
       "      <td>UXG5 Index</td>\n",
       "      <td>2025-02-01 00:00:00</td>\n",
       "      <td>17.2382</td>\n",
       "      <td>60.0</td>\n",
       "    </tr>\n",
       "    <tr>\n",
       "      <th>4</th>\n",
       "      <td>2M</td>\n",
       "      <td>UXH5 Index</td>\n",
       "      <td>2025-03-01 00:00:00</td>\n",
       "      <td>17.8351</td>\n",
       "      <td>90.0</td>\n",
       "    </tr>\n",
       "    <tr>\n",
       "      <th>5</th>\n",
       "      <td>3M</td>\n",
       "      <td>UXJ5 Index</td>\n",
       "      <td>2025-04-01 00:00:00</td>\n",
       "      <td>18.1962</td>\n",
       "      <td>120.0</td>\n",
       "    </tr>\n",
       "    <tr>\n",
       "      <th>6</th>\n",
       "      <td>4M</td>\n",
       "      <td>UXK5 Index</td>\n",
       "      <td>2025-05-01 00:00:00</td>\n",
       "      <td>18.4005</td>\n",
       "      <td>150.0</td>\n",
       "    </tr>\n",
       "    <tr>\n",
       "      <th>7</th>\n",
       "      <td>5M</td>\n",
       "      <td>UXM5 Index</td>\n",
       "      <td>2025-06-01 00:00:00</td>\n",
       "      <td>18.5484</td>\n",
       "      <td>180.0</td>\n",
       "    </tr>\n",
       "    <tr>\n",
       "      <th>8</th>\n",
       "      <td>6M</td>\n",
       "      <td>UXN5 Index</td>\n",
       "      <td>2025-07-01 00:00:00</td>\n",
       "      <td>18.8250</td>\n",
       "      <td>210.0</td>\n",
       "    </tr>\n",
       "    <tr>\n",
       "      <th>9</th>\n",
       "      <td>7M</td>\n",
       "      <td>UXQ5 Index</td>\n",
       "      <td>2025-08-01 00:00:00</td>\n",
       "      <td>18.8000</td>\n",
       "      <td>240.0</td>\n",
       "    </tr>\n",
       "    <tr>\n",
       "      <th>10</th>\n",
       "      <td>8M</td>\n",
       "      <td>UXU5 Index</td>\n",
       "      <td>2025-09-01 00:00:00</td>\n",
       "      <td>19.1000</td>\n",
       "      <td>270.0</td>\n",
       "    </tr>\n",
       "  </tbody>\n",
       "</table>\n",
       "</div>"
      ],
      "text/plain": [
       "   Tenor      Ticker               Period  Last Price  Days to expiration\n",
       "1   Spot   VIX Index                 Spot     15.9700                 0.0\n",
       "2     1M  UXF5 Index  2025-01-01 00:00:00     16.1792                30.0\n",
       "3     1M  UXG5 Index  2025-02-01 00:00:00     17.2382                60.0\n",
       "4     2M  UXH5 Index  2025-03-01 00:00:00     17.8351                90.0\n",
       "5     3M  UXJ5 Index  2025-04-01 00:00:00     18.1962               120.0\n",
       "6     4M  UXK5 Index  2025-05-01 00:00:00     18.4005               150.0\n",
       "7     5M  UXM5 Index  2025-06-01 00:00:00     18.5484               180.0\n",
       "8     6M  UXN5 Index  2025-07-01 00:00:00     18.8250               210.0\n",
       "9     7M  UXQ5 Index  2025-08-01 00:00:00     18.8000               240.0\n",
       "10    8M  UXU5 Index  2025-09-01 00:00:00     19.1000               270.0"
      ]
     },
     "execution_count": 4,
     "metadata": {},
     "output_type": "execute_result"
    }
   ],
   "source": [
    "vix_data_ahead = pd.read_excel('VIX_term_structure_20250117.xlsx', header = 0) # uploading VIX futures ahead term structure data\n",
    "vix_data_ahead = vix_data_ahead.drop(vix_data_ahead.index[0]) # removing first unnecessary row\n",
    "\n",
    "for i in range(2, len(vix_data_ahead) + 1): # turning the Period column into datetime, needed for further analyses\n",
    "    vix_data_ahead['Period'][i] = datetime.strptime(vix_data_ahead['Period'][i], '%m/%Y')\n",
    "    \n",
    "vix_data_ahead"
   ]
  },
  {
   "cell_type": "markdown",
   "id": "c0733739-ec64-431b-9fa6-fd17a5ac416f",
   "metadata": {},
   "source": [
    "In the table above, the Tenor column represents the maturity of each row of the term structure, ahead in time. The Ticker column gives information on which is the Bloomberg ticker used for the specific row, then a datetime version of the maturity follows in the Period column, together with price and days to expiration. We are basing our research as if we are at the beginning of January 2025 and we are going to be stuck there in time, as doing this in real time would be too computationally expensive."
   ]
  },
  {
   "cell_type": "markdown",
   "id": "b219b050-c128-49e3-82f4-7ad19e02d520",
   "metadata": {},
   "source": [
    "In addition to that, we also upload the historical VIX futures term structure, as we will use this for training our model, together with historical past returns of the SPY. The process of uploading and data manipulation is exactly the same as for the ahead term structure data:"
   ]
  },
  {
   "cell_type": "code",
   "execution_count": 5,
   "id": "9f118bb2-2a49-470a-aa3c-0f599be4bf4e",
   "metadata": {},
   "outputs": [
    {
     "name": "stderr",
     "output_type": "stream",
     "text": [
      "C:\\Users\\Alessio Incelli\\AppData\\Local\\Temp\\ipykernel_27952\\2368633098.py:5: SettingWithCopyWarning: \n",
      "A value is trying to be set on a copy of a slice from a DataFrame\n",
      "\n",
      "See the caveats in the documentation: https://pandas.pydata.org/pandas-docs/stable/user_guide/indexing.html#returning-a-view-versus-a-copy\n",
      "  vix_data_hist['Period'][i] = datetime.strptime(vix_data_hist['Period'][i], '%m/%Y')\n"
     ]
    },
    {
     "data": {
      "text/html": [
       "<div>\n",
       "<style scoped>\n",
       "    .dataframe tbody tr th:only-of-type {\n",
       "        vertical-align: middle;\n",
       "    }\n",
       "\n",
       "    .dataframe tbody tr th {\n",
       "        vertical-align: top;\n",
       "    }\n",
       "\n",
       "    .dataframe thead th {\n",
       "        text-align: right;\n",
       "    }\n",
       "</style>\n",
       "<table border=\"1\" class=\"dataframe\">\n",
       "  <thead>\n",
       "    <tr style=\"text-align: right;\">\n",
       "      <th></th>\n",
       "      <th>Tenor</th>\n",
       "      <th>Ticker</th>\n",
       "      <th>Period</th>\n",
       "      <th>Last Price</th>\n",
       "      <th>Days past</th>\n",
       "    </tr>\n",
       "  </thead>\n",
       "  <tbody>\n",
       "    <tr>\n",
       "      <th>166</th>\n",
       "      <td>5Y</td>\n",
       "      <td>UXG05 Index</td>\n",
       "      <td>2005-02-01 00:00:00</td>\n",
       "      <td>11.4800</td>\n",
       "      <td>7170.0</td>\n",
       "    </tr>\n",
       "    <tr>\n",
       "      <th>167</th>\n",
       "      <td>61M</td>\n",
       "      <td>UXH05 Index</td>\n",
       "      <td>2005-03-01 00:00:00</td>\n",
       "      <td>12.2200</td>\n",
       "      <td>7140.0</td>\n",
       "    </tr>\n",
       "    <tr>\n",
       "      <th>168</th>\n",
       "      <td>63M</td>\n",
       "      <td>UXK05 Index</td>\n",
       "      <td>2005-05-01 00:00:00</td>\n",
       "      <td>13.1600</td>\n",
       "      <td>7080.0</td>\n",
       "    </tr>\n",
       "    <tr>\n",
       "      <th>169</th>\n",
       "      <td>66M</td>\n",
       "      <td>UXQ05 Index</td>\n",
       "      <td>2005-08-01 00:00:00</td>\n",
       "      <td>14.4300</td>\n",
       "      <td>6990.0</td>\n",
       "    </tr>\n",
       "    <tr>\n",
       "      <th>162</th>\n",
       "      <td>6Y</td>\n",
       "      <td>UXG06 Index</td>\n",
       "      <td>2006-02-01 00:00:00</td>\n",
       "      <td>12.8700</td>\n",
       "      <td>6810.0</td>\n",
       "    </tr>\n",
       "    <tr>\n",
       "      <th>...</th>\n",
       "      <td>...</td>\n",
       "      <td>...</td>\n",
       "      <td>...</td>\n",
       "      <td>...</td>\n",
       "      <td>...</td>\n",
       "    </tr>\n",
       "    <tr>\n",
       "      <th>5</th>\n",
       "      <td>292M</td>\n",
       "      <td>UXM4 Index</td>\n",
       "      <td>2024-06-01 00:00:00</td>\n",
       "      <td>16.6821</td>\n",
       "      <td>210.0</td>\n",
       "    </tr>\n",
       "    <tr>\n",
       "      <th>6</th>\n",
       "      <td>293M</td>\n",
       "      <td>UXN4 Index</td>\n",
       "      <td>2024-07-01 00:00:00</td>\n",
       "      <td>17.1011</td>\n",
       "      <td>180.0</td>\n",
       "    </tr>\n",
       "    <tr>\n",
       "      <th>7</th>\n",
       "      <td>294M</td>\n",
       "      <td>UXQ4 Index</td>\n",
       "      <td>2024-08-01 00:00:00</td>\n",
       "      <td>17.3603</td>\n",
       "      <td>150.0</td>\n",
       "    </tr>\n",
       "    <tr>\n",
       "      <th>8</th>\n",
       "      <td>295M</td>\n",
       "      <td>UXU4 Index</td>\n",
       "      <td>2024-09-01 00:00:00</td>\n",
       "      <td>17.6000</td>\n",
       "      <td>120.0</td>\n",
       "    </tr>\n",
       "    <tr>\n",
       "      <th>9</th>\n",
       "      <td>296M</td>\n",
       "      <td>UXV4 Index</td>\n",
       "      <td>2024-10-01 00:00:00</td>\n",
       "      <td>20.5000</td>\n",
       "      <td>90.0</td>\n",
       "    </tr>\n",
       "  </tbody>\n",
       "</table>\n",
       "<p>169 rows × 5 columns</p>\n",
       "</div>"
      ],
      "text/plain": [
       "    Tenor       Ticker               Period  Last Price  Days past\n",
       "166    5Y  UXG05 Index  2005-02-01 00:00:00     11.4800     7170.0\n",
       "167   61M  UXH05 Index  2005-03-01 00:00:00     12.2200     7140.0\n",
       "168   63M  UXK05 Index  2005-05-01 00:00:00     13.1600     7080.0\n",
       "169   66M  UXQ05 Index  2005-08-01 00:00:00     14.4300     6990.0\n",
       "162    6Y  UXG06 Index  2006-02-01 00:00:00     12.8700     6810.0\n",
       "..    ...          ...                  ...         ...        ...\n",
       "5    292M   UXM4 Index  2024-06-01 00:00:00     16.6821      210.0\n",
       "6    293M   UXN4 Index  2024-07-01 00:00:00     17.1011      180.0\n",
       "7    294M   UXQ4 Index  2024-08-01 00:00:00     17.3603      150.0\n",
       "8    295M   UXU4 Index  2024-09-01 00:00:00     17.6000      120.0\n",
       "9    296M   UXV4 Index  2024-10-01 00:00:00     20.5000       90.0\n",
       "\n",
       "[169 rows x 5 columns]"
      ]
     },
     "execution_count": 5,
     "metadata": {},
     "output_type": "execute_result"
    }
   ],
   "source": [
    "vix_data_hist = pd.read_excel('hist_vix_term_structure.xlsx', header = 0) # uploading VIX futures ahead term structure data\n",
    "vix_data_hist = vix_data_hist.drop(vix_data_hist.index[0]) # removing first unnecessary row\n",
    "\n",
    "for i in range(1, len(vix_data_hist) + 1): # turning the Period column into datetime, needed for further analyses\n",
    "    vix_data_hist['Period'][i] = datetime.strptime(vix_data_hist['Period'][i], '%m/%Y')\n",
    "    \n",
    "vix_data_hist = vix_data_hist.sort_values(by = 'Period') # in the historical data, futures prices are not ordered properly in ascending or descending ordervix_data_hist\n",
    "vix_data_hist"
   ]
  },
  {
   "cell_type": "markdown",
   "id": "0dd72c7f-8531-4fc8-a8b6-894df37b74be",
   "metadata": {},
   "source": [
    "Now we are going to define three functions which will be used to compute the indicators that are going to be part of the innovative strategy. The rolling volatility, rolling correlation and rate of change indicators will be used to double check that the switches between momentum and mean-reversion strategies make sense or to question them."
   ]
  },
  {
   "cell_type": "code",
   "execution_count": 6,
   "id": "0615fe4c-0333-41b7-9943-2c390c695959",
   "metadata": {},
   "outputs": [],
   "source": [
    "## creating functions for the three indicators which will compose the innovative part of our approach\n",
    "\n",
    "def rolling_std(series, time_interval): # defining a function for volatility, which we consider as rolling standard deviation\n",
    "    return series.rolling(window = time_interval).std()\n",
    "\n",
    "def rolling_correlation(series1, series2, time_interval): # defining a function for the rolling correlation\n",
    "    return series1.rolling(window = time_interval).corr(series2)\n",
    "\n",
    "def ROC(series): # defining a function for the rate of change, that will be primarly used for the VIX slope\n",
    "    return series.pct_change()"
   ]
  },
  {
   "cell_type": "markdown",
   "id": "556883a5-300e-489d-9f16-d1cc93470ef4",
   "metadata": {},
   "source": [
    "Furthermore, we are going to define a function that will create two new term structures, one for the historical one and the other for the ahead in time one, with newly calculated prices.\n",
    "The prices will be calculated via linear interpolation with a targeted maturity, taken as the midpoint between two maturities, so that the new term structure is characterized by constant maturity."
   ]
  },
  {
   "cell_type": "code",
   "execution_count": 7,
   "id": "58cedc53-7bca-40ca-92a1-e9e0ccbd49f2",
   "metadata": {},
   "outputs": [],
   "source": [
    "def constant_mat_term_structure(vix_term_structure):\n",
    "    \"\"\"\n",
    "    This function computes the linear interpolation of VIX futures prices \n",
    "    for generating a constant maturity term structure.\n",
    "    \n",
    "    It takes the VIX dataframe, be it either the historical one or the future one, as input,\n",
    "    and will return the interpolated prices of the VIX futures.\n",
    "    \"\"\"\n",
    "    \n",
    "    constant_maturity_prices = [] # allocating memory for the prices computed with constant maturity approach\n",
    "    for i in range(1, len(vix_term_structure)): # looping over all observations of the dataframe fed to the function\n",
    "        maturity1 = vix_term_structure.loc[i - 1, \"Days to expiration\"] # first maturity\n",
    "        maturity2 = vix_term_structure.loc[i, \"Days to expiration\"] # second maturity\n",
    "        price1 = vix_term_structure.loc[i - 1, \"Last Price\"] # first price\n",
    "        price2 = vix_term_structure.loc[i, \"Last Price\"] # second price\n",
    "        \n",
    "        target_maturity = (maturity1 + maturity2) / 2 # the target maturity is identified as the middle point between maturity 1 and 2\n",
    "        \n",
    "        # formula decided to be used for price interpolation\n",
    "        interpolated_price = price1 * (maturity2 - target_maturity) / (maturity2 - maturity1) + price2 * (target_maturity - maturity1) / (maturity2 - maturity1)\n",
    "        constant_maturity_prices.append(interpolated_price) # appending each result of the loop in the initially created variable\n",
    "    \n",
    "    constant_maturity_prices.insert(0, None) # adding NaN for the first row since it doesn't have a previous contract\n",
    "    vix_term_structure[\"Constant Maturity Price\"] = constant_maturity_prices # adding the newly computed prices to the original table\n",
    "    return vix_term_structure"
   ]
  },
  {
   "cell_type": "markdown",
   "id": "506cfc5a-bd2a-497c-8e8f-fbde8796a051",
   "metadata": {},
   "source": [
    "Running the function for both historical and 2025 VIX futures term structures:"
   ]
  },
  {
   "cell_type": "code",
   "execution_count": 8,
   "id": "5ecac885-827e-432a-bbab-12a57f24b3d1",
   "metadata": {},
   "outputs": [],
   "source": [
    "vix_data_ahead = vix_data_ahead.reset_index(drop = True) # resetting the index of the ahead term structure for data manipulation\n",
    "constant_maturity_ahead = constant_mat_term_structure(vix_data_ahead) # computing constant maturity ahead term structure\n",
    "\n",
    "vix_data_hist = vix_data_hist.reset_index(drop = True) # resetting the index of the ahead term structure for data manipulation\n",
    "vix_data_hist.rename(columns = {'Days past': 'Days to expiration'}, inplace = True) # column renaming for data manipulation (the function admits 'Days to expiration', we could have changed the function but it would require more than one line as here)\n",
    "constant_maturity_hist = constant_mat_term_structure(vix_data_hist) # computing constant maturity historical term structure\n",
    "vix_data_hist.rename(columns = {'Days to expiration': 'Days past'}, inplace = True) # column renaming for data manipulation (the function admits 'Days to expiration', we could have changed the function but it would require more than one line as here)"
   ]
  },
  {
   "cell_type": "code",
   "execution_count": 9,
   "id": "ad762ea1-3d67-47cf-bb4c-6459b4d4bc68",
   "metadata": {},
   "outputs": [
    {
     "name": "stdout",
     "output_type": "stream",
     "text": [
      "Constant Maturity Term Structure ahead:\n"
     ]
    },
    {
     "data": {
      "text/html": [
       "<div>\n",
       "<style scoped>\n",
       "    .dataframe tbody tr th:only-of-type {\n",
       "        vertical-align: middle;\n",
       "    }\n",
       "\n",
       "    .dataframe tbody tr th {\n",
       "        vertical-align: top;\n",
       "    }\n",
       "\n",
       "    .dataframe thead th {\n",
       "        text-align: right;\n",
       "    }\n",
       "</style>\n",
       "<table border=\"1\" class=\"dataframe\">\n",
       "  <thead>\n",
       "    <tr style=\"text-align: right;\">\n",
       "      <th></th>\n",
       "      <th>Period</th>\n",
       "      <th>Constant Maturity Price</th>\n",
       "    </tr>\n",
       "  </thead>\n",
       "  <tbody>\n",
       "    <tr>\n",
       "      <th>0</th>\n",
       "      <td>Spot</td>\n",
       "      <td>NaN</td>\n",
       "    </tr>\n",
       "    <tr>\n",
       "      <th>1</th>\n",
       "      <td>2025-01-01 00:00:00</td>\n",
       "      <td>16.07460</td>\n",
       "    </tr>\n",
       "    <tr>\n",
       "      <th>2</th>\n",
       "      <td>2025-02-01 00:00:00</td>\n",
       "      <td>16.70870</td>\n",
       "    </tr>\n",
       "    <tr>\n",
       "      <th>3</th>\n",
       "      <td>2025-03-01 00:00:00</td>\n",
       "      <td>17.53665</td>\n",
       "    </tr>\n",
       "    <tr>\n",
       "      <th>4</th>\n",
       "      <td>2025-04-01 00:00:00</td>\n",
       "      <td>18.01565</td>\n",
       "    </tr>\n",
       "    <tr>\n",
       "      <th>5</th>\n",
       "      <td>2025-05-01 00:00:00</td>\n",
       "      <td>18.29835</td>\n",
       "    </tr>\n",
       "    <tr>\n",
       "      <th>6</th>\n",
       "      <td>2025-06-01 00:00:00</td>\n",
       "      <td>18.47445</td>\n",
       "    </tr>\n",
       "    <tr>\n",
       "      <th>7</th>\n",
       "      <td>2025-07-01 00:00:00</td>\n",
       "      <td>18.68670</td>\n",
       "    </tr>\n",
       "    <tr>\n",
       "      <th>8</th>\n",
       "      <td>2025-08-01 00:00:00</td>\n",
       "      <td>18.81250</td>\n",
       "    </tr>\n",
       "    <tr>\n",
       "      <th>9</th>\n",
       "      <td>2025-09-01 00:00:00</td>\n",
       "      <td>18.95000</td>\n",
       "    </tr>\n",
       "  </tbody>\n",
       "</table>\n",
       "</div>"
      ],
      "text/plain": [
       "                Period  Constant Maturity Price\n",
       "0                 Spot                      NaN\n",
       "1  2025-01-01 00:00:00                 16.07460\n",
       "2  2025-02-01 00:00:00                 16.70870\n",
       "3  2025-03-01 00:00:00                 17.53665\n",
       "4  2025-04-01 00:00:00                 18.01565\n",
       "5  2025-05-01 00:00:00                 18.29835\n",
       "6  2025-06-01 00:00:00                 18.47445\n",
       "7  2025-07-01 00:00:00                 18.68670\n",
       "8  2025-08-01 00:00:00                 18.81250\n",
       "9  2025-09-01 00:00:00                 18.95000"
      ]
     },
     "execution_count": 9,
     "metadata": {},
     "output_type": "execute_result"
    }
   ],
   "source": [
    "print(\"Constant Maturity Term Structure ahead:\") # printing the new ahead term structure, made of prices at constant maturity\n",
    "constant_maturity_ahead[['Period', 'Constant Maturity Price']]"
   ]
  },
  {
   "cell_type": "code",
   "execution_count": 10,
   "id": "d544d5c3-3234-42f9-9e96-515ad0f6a512",
   "metadata": {},
   "outputs": [
    {
     "name": "stdout",
     "output_type": "stream",
     "text": [
      "Constant Maturity Term Structure historical:\n"
     ]
    },
    {
     "data": {
      "text/html": [
       "<div>\n",
       "<style scoped>\n",
       "    .dataframe tbody tr th:only-of-type {\n",
       "        vertical-align: middle;\n",
       "    }\n",
       "\n",
       "    .dataframe tbody tr th {\n",
       "        vertical-align: top;\n",
       "    }\n",
       "\n",
       "    .dataframe thead th {\n",
       "        text-align: right;\n",
       "    }\n",
       "</style>\n",
       "<table border=\"1\" class=\"dataframe\">\n",
       "  <thead>\n",
       "    <tr style=\"text-align: right;\">\n",
       "      <th></th>\n",
       "      <th>Period</th>\n",
       "      <th>Constant Maturity Price</th>\n",
       "    </tr>\n",
       "  </thead>\n",
       "  <tbody>\n",
       "    <tr>\n",
       "      <th>0</th>\n",
       "      <td>2005-02-01 00:00:00</td>\n",
       "      <td>NaN</td>\n",
       "    </tr>\n",
       "    <tr>\n",
       "      <th>1</th>\n",
       "      <td>2005-03-01 00:00:00</td>\n",
       "      <td>11.85000</td>\n",
       "    </tr>\n",
       "    <tr>\n",
       "      <th>2</th>\n",
       "      <td>2005-05-01 00:00:00</td>\n",
       "      <td>12.69000</td>\n",
       "    </tr>\n",
       "    <tr>\n",
       "      <th>3</th>\n",
       "      <td>2005-08-01 00:00:00</td>\n",
       "      <td>13.79500</td>\n",
       "    </tr>\n",
       "    <tr>\n",
       "      <th>4</th>\n",
       "      <td>2006-02-01 00:00:00</td>\n",
       "      <td>13.65000</td>\n",
       "    </tr>\n",
       "    <tr>\n",
       "      <th>...</th>\n",
       "      <td>...</td>\n",
       "      <td>...</td>\n",
       "    </tr>\n",
       "    <tr>\n",
       "      <th>164</th>\n",
       "      <td>2024-06-01 00:00:00</td>\n",
       "      <td>16.51625</td>\n",
       "    </tr>\n",
       "    <tr>\n",
       "      <th>165</th>\n",
       "      <td>2024-07-01 00:00:00</td>\n",
       "      <td>16.89160</td>\n",
       "    </tr>\n",
       "    <tr>\n",
       "      <th>166</th>\n",
       "      <td>2024-08-01 00:00:00</td>\n",
       "      <td>17.23070</td>\n",
       "    </tr>\n",
       "    <tr>\n",
       "      <th>167</th>\n",
       "      <td>2024-09-01 00:00:00</td>\n",
       "      <td>17.48015</td>\n",
       "    </tr>\n",
       "    <tr>\n",
       "      <th>168</th>\n",
       "      <td>2024-10-01 00:00:00</td>\n",
       "      <td>19.05000</td>\n",
       "    </tr>\n",
       "  </tbody>\n",
       "</table>\n",
       "<p>169 rows × 2 columns</p>\n",
       "</div>"
      ],
      "text/plain": [
       "                  Period  Constant Maturity Price\n",
       "0    2005-02-01 00:00:00                      NaN\n",
       "1    2005-03-01 00:00:00                 11.85000\n",
       "2    2005-05-01 00:00:00                 12.69000\n",
       "3    2005-08-01 00:00:00                 13.79500\n",
       "4    2006-02-01 00:00:00                 13.65000\n",
       "..                   ...                      ...\n",
       "164  2024-06-01 00:00:00                 16.51625\n",
       "165  2024-07-01 00:00:00                 16.89160\n",
       "166  2024-08-01 00:00:00                 17.23070\n",
       "167  2024-09-01 00:00:00                 17.48015\n",
       "168  2024-10-01 00:00:00                 19.05000\n",
       "\n",
       "[169 rows x 2 columns]"
      ]
     },
     "execution_count": 10,
     "metadata": {},
     "output_type": "execute_result"
    }
   ],
   "source": [
    "print(\"Constant Maturity Term Structure historical:\") # printing the new historical term structure, made of prices at constant maturity\n",
    "constant_maturity_hist[['Period', 'Constant Maturity Price']]"
   ]
  },
  {
   "cell_type": "markdown",
   "id": "db7e684e-1fa6-4b43-a722-707f0bff8f04",
   "metadata": {},
   "source": [
    "If one compares the two term structures just obtained with the previous versions originally uploaded here, not at constant maturity, then it can be observed that the interpolated prices and the original prices are not so distant from each other."
   ]
  },
  {
   "cell_type": "markdown",
   "id": "36722965-81be-4fb3-bd85-fc88699c2cd7",
   "metadata": {},
   "source": [
    "Calculating the slope of the constant maturity VIX futures term structure in a normalized way, meaning with the difference in prices at the numerator and the difference in days at the denominator:"
   ]
  },
  {
   "cell_type": "code",
   "execution_count": 11,
   "id": "d7664bef-a4ad-4a4e-8d6e-1471d2048a37",
   "metadata": {},
   "outputs": [
    {
     "data": {
      "text/plain": [
       "0         NaN\n",
       "1         NaN\n",
       "2    0.021137\n",
       "3    0.027598\n",
       "4    0.015967\n",
       "5    0.009423\n",
       "6    0.005870\n",
       "7    0.007075\n",
       "8    0.004193\n",
       "9    0.004583\n",
       "Name: vix_slope, dtype: float64"
      ]
     },
     "execution_count": 11,
     "metadata": {},
     "output_type": "execute_result"
    }
   ],
   "source": [
    "# computing the slope of the ahead term structure\n",
    "constant_maturity_ahead['vix_slope'] = constant_maturity_ahead[\"Constant Maturity Price\"].diff() / constant_maturity_ahead[\"Days to expiration\"].diff()\n",
    "constant_maturity_ahead['vix_slope']"
   ]
  },
  {
   "cell_type": "markdown",
   "id": "49992c44-535f-4094-aa54-e7ce04824be5",
   "metadata": {},
   "source": [
    "Applying the same to the historical constant maturity term structure (to evaluate if a negative sign is needed in front of this):"
   ]
  },
  {
   "cell_type": "code",
   "execution_count": 14,
   "id": "618635d2-4bd1-47b3-b610-6653f5ee186b",
   "metadata": {},
   "outputs": [
    {
     "data": {
      "text/plain": [
       "0           NaN\n",
       "1           NaN\n",
       "2     -0.014000\n",
       "3     -0.012278\n",
       "4      0.000806\n",
       "         ...   \n",
       "164   -0.013038\n",
       "165   -0.012512\n",
       "166   -0.011303\n",
       "167   -0.008315\n",
       "168   -0.052328\n",
       "Name: vix_slope, Length: 169, dtype: float64"
      ]
     },
     "execution_count": 14,
     "metadata": {},
     "output_type": "execute_result"
    }
   ],
   "source": [
    "# computing the slope of the historical term structure\n",
    "constant_maturity_hist[\"vix_slope\"] = constant_maturity_hist[\"Constant Maturity Price\"].diff() / constant_maturity_hist[\"Days past\"].diff() # maybe a negative sign in front of it?\n",
    "constant_maturity_hist[\"vix_slope\"]"
   ]
  },
  {
   "cell_type": "markdown",
   "id": "e595a5d5-b4d7-4ca2-afb9-741d6427d662",
   "metadata": {},
   "source": [
    "An initial calculation of the three indicators follows. In order to compute the rolling correlation between the slope of the VIX futures term structure, we are going to combine that data with the SPY returns in a unique dataframe for ease of computation."
   ]
  },
  {
   "cell_type": "code",
   "execution_count": 15,
   "id": "b1f7528f-5241-457b-894b-188d58a71405",
   "metadata": {},
   "outputs": [
    {
     "data": {
      "text/html": [
       "<div>\n",
       "<style scoped>\n",
       "    .dataframe tbody tr th:only-of-type {\n",
       "        vertical-align: middle;\n",
       "    }\n",
       "\n",
       "    .dataframe tbody tr th {\n",
       "        vertical-align: top;\n",
       "    }\n",
       "\n",
       "    .dataframe thead th {\n",
       "        text-align: right;\n",
       "    }\n",
       "</style>\n",
       "<table border=\"1\" class=\"dataframe\">\n",
       "  <thead>\n",
       "    <tr style=\"text-align: right;\">\n",
       "      <th></th>\n",
       "      <th>vix_slope</th>\n",
       "      <th>SPY returns</th>\n",
       "    </tr>\n",
       "    <tr>\n",
       "      <th>Period</th>\n",
       "      <th></th>\n",
       "      <th></th>\n",
       "    </tr>\n",
       "  </thead>\n",
       "  <tbody>\n",
       "    <tr>\n",
       "      <th>2005-02-01</th>\n",
       "      <td>NaN</td>\n",
       "      <td>NaN</td>\n",
       "    </tr>\n",
       "    <tr>\n",
       "      <th>2005-03-01</th>\n",
       "      <td>NaN</td>\n",
       "      <td>NaN</td>\n",
       "    </tr>\n",
       "    <tr>\n",
       "      <th>2005-05-01</th>\n",
       "      <td>-0.014000</td>\n",
       "      <td>NaN</td>\n",
       "    </tr>\n",
       "    <tr>\n",
       "      <th>2005-08-01</th>\n",
       "      <td>-0.012278</td>\n",
       "      <td>-0.009374</td>\n",
       "    </tr>\n",
       "    <tr>\n",
       "      <th>2006-02-01</th>\n",
       "      <td>0.000806</td>\n",
       "      <td>0.005725</td>\n",
       "    </tr>\n",
       "    <tr>\n",
       "      <th>...</th>\n",
       "      <td>...</td>\n",
       "      <td>...</td>\n",
       "    </tr>\n",
       "    <tr>\n",
       "      <th>2024-06-01</th>\n",
       "      <td>-0.013038</td>\n",
       "      <td>0.031951</td>\n",
       "    </tr>\n",
       "    <tr>\n",
       "      <th>2024-07-01</th>\n",
       "      <td>-0.012512</td>\n",
       "      <td>0.015374</td>\n",
       "    </tr>\n",
       "    <tr>\n",
       "      <th>2024-08-01</th>\n",
       "      <td>-0.011303</td>\n",
       "      <td>0.023365</td>\n",
       "    </tr>\n",
       "    <tr>\n",
       "      <th>2024-09-01</th>\n",
       "      <td>-0.008315</td>\n",
       "      <td>0.017883</td>\n",
       "    </tr>\n",
       "    <tr>\n",
       "      <th>2024-10-01</th>\n",
       "      <td>-0.052328</td>\n",
       "      <td>-0.005884</td>\n",
       "    </tr>\n",
       "  </tbody>\n",
       "</table>\n",
       "<p>169 rows × 2 columns</p>\n",
       "</div>"
      ],
      "text/plain": [
       "            vix_slope  SPY returns\n",
       "Period                            \n",
       "2005-02-01        NaN          NaN\n",
       "2005-03-01        NaN          NaN\n",
       "2005-05-01  -0.014000          NaN\n",
       "2005-08-01  -0.012278    -0.009374\n",
       "2006-02-01   0.000806     0.005725\n",
       "...               ...          ...\n",
       "2024-06-01  -0.013038     0.031951\n",
       "2024-07-01  -0.012512     0.015374\n",
       "2024-08-01  -0.011303     0.023365\n",
       "2024-09-01  -0.008315     0.017883\n",
       "2024-10-01  -0.052328    -0.005884\n",
       "\n",
       "[169 rows x 2 columns]"
      ]
     },
     "execution_count": 15,
     "metadata": {},
     "output_type": "execute_result"
    }
   ],
   "source": [
    "# now the idea is to merge the historical VIX dataframe with returns from SPY, so that we have aligned data and we can compute correlation\n",
    "constant_maturity_hist = constant_maturity_hist.set_index('Period', drop = True) # setting the dates as index\n",
    "correlation_dataset = constant_maturity_hist.join(spy_rets, how = 'left') # adding the returns from SPY to the historical VIX dataframe\n",
    "correlation_dataset = correlation_dataset.drop(['Tenor', 'Ticker', 'Last Price', 'Days past', 'Constant Maturity Price'], axis = 1) # dropping unnecessary columns for correlation analysis\n",
    "\n",
    "correlation_dataset"
   ]
  },
  {
   "cell_type": "markdown",
   "id": "b7a89fee-2888-46df-9b72-0c630dfe3e08",
   "metadata": {},
   "source": [
    "Using the previously defined three functions, we are computing the innovative indicators that we are going to use as a double check after the momentum transformer:"
   ]
  },
  {
   "cell_type": "code",
   "execution_count": 16,
   "id": "3eb0391d-5a7a-4a6c-ae21-a445c9f6bfa6",
   "metadata": {},
   "outputs": [],
   "source": [
    "vol_indicator = rolling_std(spy_rets, time_interval = 5).dropna() # calculating volatility indicator on the returns of SPY\n",
    "correlation_indicator = rolling_correlation(correlation_dataset['vix_slope'], correlation_dataset['SPY returns'], time_interval = 5).dropna() # computing correlation indicator between SPY returns and historical VIX slope\n",
    "roc_indicator = ROC(correlation_dataset['vix_slope']).dropna() # calculating rate of change of the historical VIX futures constant maturity term structure slope\n",
    "roc_indicator.replace([np.inf, -np.inf], np.nan, inplace = True) # replacing infinite values with nan, as there are a couple of zeros in the slope columns which generate inf\n",
    "roc_indicator.dropna(inplace = True) # dropping again rows with nan values"
   ]
  },
  {
   "cell_type": "code",
   "execution_count": 17,
   "id": "4799db18-ad20-4e8a-981a-f3c1511d940c",
   "metadata": {},
   "outputs": [
    {
     "name": "stdout",
     "output_type": "stream",
     "text": [
      "Historical rolling volatility indicator:\n",
      "Date\n",
      "2005-12-01    0.024689\n",
      "2006-01-01    0.026147\n",
      "2006-02-01    0.026042\n",
      "2006-03-01    0.020083\n",
      "2006-04-01    0.013524\n",
      "                ...   \n",
      "2024-08-01    0.032965\n",
      "2024-09-01    0.014218\n",
      "2024-10-01    0.014054\n",
      "2024-11-01    0.023751\n",
      "2024-12-01    0.032741\n",
      "Name: SPY returns, Length: 229, dtype: float64\n"
     ]
    }
   ],
   "source": [
    "print(\"Historical rolling volatility indicator:\")\n",
    "print(vol_indicator)"
   ]
  },
  {
   "cell_type": "code",
   "execution_count": 18,
   "id": "0c73f69e-6c5f-400d-9db4-79d6b18e6874",
   "metadata": {},
   "outputs": [
    {
     "name": "stdout",
     "output_type": "stream",
     "text": [
      "Historical rolling correlation indicator:\n",
      "Period\n",
      "2006-08-01    0.411574\n",
      "2007-02-01    0.156484\n",
      "2007-03-01    0.276872\n",
      "2007-04-01   -0.271608\n",
      "2007-05-01   -0.628527\n",
      "                ...   \n",
      "2024-06-01    0.292605\n",
      "2024-07-01    0.264485\n",
      "2024-08-01    0.620177\n",
      "2024-09-01   -0.911279\n",
      "2024-10-01    0.866637\n",
      "Length: 162, dtype: float64\n"
     ]
    }
   ],
   "source": [
    "print(\"Historical rolling correlation indicator:\")\n",
    "print(correlation_indicator)"
   ]
  },
  {
   "cell_type": "code",
   "execution_count": 19,
   "id": "1b09bafb-e7b6-48de-9245-431e68f096c0",
   "metadata": {},
   "outputs": [
    {
     "name": "stdout",
     "output_type": "stream",
     "text": [
      "Historical VIX slope rate of change indicator:\n",
      "Period\n",
      "2005-08-01    -0.123016\n",
      "2006-02-01    -1.065611\n",
      "2006-03-01    25.068966\n",
      "2006-05-01    -1.690476\n",
      "2006-08-01    -0.022989\n",
      "                ...    \n",
      "2024-06-01    -0.420519\n",
      "2024-07-01    -0.040394\n",
      "2024-08-01    -0.096577\n",
      "2024-09-01    -0.264376\n",
      "2024-10-01     5.293245\n",
      "Name: vix_slope, Length: 163, dtype: float64\n"
     ]
    }
   ],
   "source": [
    "print(\"Historical VIX slope rate of change indicator:\")\n",
    "print(roc_indicator)"
   ]
  },
  {
   "cell_type": "markdown",
   "id": "02450b5c-e5be-4c74-bf5d-2876bdb373e9",
   "metadata": {},
   "source": [
    "# **Step 2: Training the Momentum Transformer model**"
   ]
  },
  {
   "cell_type": "markdown",
   "id": "deb7fe0c-a1d6-4135-b8a5-9ebc95cc9637",
   "metadata": {},
   "source": [
    "## **2.1: Double LSTM approach**"
   ]
  },
  {
   "cell_type": "markdown",
   "id": "274a7d23-0df4-422a-9677-c5a2a981f8fc",
   "metadata": {},
   "source": [
    "In order to train the momentum transformer model, we take the correlation_dataset dataframe created above, because it contains everything we need for the model training: namely, our x variable is the slope of the historical VIX futures term structure data, while our y variable is represented by the SPY returns."
   ]
  },
  {
   "cell_type": "code",
   "execution_count": 20,
   "id": "655162fa-44e7-464f-83c3-eb8fc2aaa2f4",
   "metadata": {},
   "outputs": [],
   "source": [
    "correlation_dataset = correlation_dataset.dropna() # dropping the first NAs due to rolling window\n",
    "spy_rets_training = correlation_dataset['SPY returns'] # identifying the historical SPY returns for training\n",
    "vix_slope_training = correlation_dataset['vix_slope'] # identifying the historical VIX slope for training"
   ]
  },
  {
   "cell_type": "markdown",
   "id": "621a3af5-cfbf-4bf0-9b40-878e81caf2bc",
   "metadata": {},
   "source": [
    "Computing the three indicators for the training part:"
   ]
  },
  {
   "cell_type": "code",
   "execution_count": 21,
   "id": "e2311dd4-bd97-4d4c-8caf-66057c48655a",
   "metadata": {},
   "outputs": [],
   "source": [
    "vol_indicator_training = rolling_std(spy_rets_training, time_interval = 5).dropna() # computing volatility indicator for the training part\n",
    "correlation_indicator_training = rolling_correlation(spy_rets_training, vix_slope_training, time_interval = 5).dropna() # computing correlation indicator for the training part\n",
    "roc_indicator_training = ROC(vix_slope_training).dropna() # computing roc indicator for the training part\n",
    "roc_indicator_training.replace([np.inf, -np.inf], np.nan, inplace = True) # replacing infinite values with nan, as there are a couple of zeros in the slope columns which generate inf\n",
    "roc_indicator_training.dropna(inplace = True) # dropping again rows with nan values"
   ]
  },
  {
   "cell_type": "markdown",
   "id": "47baa570-47d9-449d-9be2-41da4f4386e1",
   "metadata": {},
   "source": [
    "Momentum transformer has become quite famous in this area of research because RNNs and LSTM approaches generate vanishing or exploding gradients. Therefore, we are first exploring what happens with LSTM, before moving on to the momentum transformer approach."
   ]
  },
  {
   "cell_type": "markdown",
   "id": "17fd62b3-118e-434b-8b34-4bfa8fbd0227",
   "metadata": {},
   "source": [
    "Combining the two variables in a proper dataframe, which is called also differently, so that it is clear that now we are starting to group the data."
   ]
  },
  {
   "cell_type": "code",
   "execution_count": 22,
   "id": "580293a0-8fbc-4b7f-95a6-cb9a4889a7a8",
   "metadata": {},
   "outputs": [
    {
     "data": {
      "text/html": [
       "<div>\n",
       "<style scoped>\n",
       "    .dataframe tbody tr th:only-of-type {\n",
       "        vertical-align: middle;\n",
       "    }\n",
       "\n",
       "    .dataframe tbody tr th {\n",
       "        vertical-align: top;\n",
       "    }\n",
       "\n",
       "    .dataframe thead th {\n",
       "        text-align: right;\n",
       "    }\n",
       "</style>\n",
       "<table border=\"1\" class=\"dataframe\">\n",
       "  <thead>\n",
       "    <tr style=\"text-align: right;\">\n",
       "      <th></th>\n",
       "      <th>Historical VIX futures slope</th>\n",
       "      <th>Stock Returns</th>\n",
       "    </tr>\n",
       "    <tr>\n",
       "      <th>Period</th>\n",
       "      <th></th>\n",
       "      <th></th>\n",
       "    </tr>\n",
       "  </thead>\n",
       "  <tbody>\n",
       "    <tr>\n",
       "      <th>2005-08-01</th>\n",
       "      <td>-0.012278</td>\n",
       "      <td>-0.009374</td>\n",
       "    </tr>\n",
       "    <tr>\n",
       "      <th>2006-02-01</th>\n",
       "      <td>0.000806</td>\n",
       "      <td>0.005725</td>\n",
       "    </tr>\n",
       "    <tr>\n",
       "      <th>2006-03-01</th>\n",
       "      <td>0.021000</td>\n",
       "      <td>0.012478</td>\n",
       "    </tr>\n",
       "    <tr>\n",
       "      <th>2006-05-01</th>\n",
       "      <td>-0.014500</td>\n",
       "      <td>-0.030122</td>\n",
       "    </tr>\n",
       "    <tr>\n",
       "      <th>2006-08-01</th>\n",
       "      <td>-0.014167</td>\n",
       "      <td>0.021823</td>\n",
       "    </tr>\n",
       "    <tr>\n",
       "      <th>...</th>\n",
       "      <td>...</td>\n",
       "      <td>...</td>\n",
       "    </tr>\n",
       "    <tr>\n",
       "      <th>2024-06-01</th>\n",
       "      <td>-0.013038</td>\n",
       "      <td>0.031951</td>\n",
       "    </tr>\n",
       "    <tr>\n",
       "      <th>2024-07-01</th>\n",
       "      <td>-0.012512</td>\n",
       "      <td>0.015374</td>\n",
       "    </tr>\n",
       "    <tr>\n",
       "      <th>2024-08-01</th>\n",
       "      <td>-0.011303</td>\n",
       "      <td>0.023365</td>\n",
       "    </tr>\n",
       "    <tr>\n",
       "      <th>2024-09-01</th>\n",
       "      <td>-0.008315</td>\n",
       "      <td>0.017883</td>\n",
       "    </tr>\n",
       "    <tr>\n",
       "      <th>2024-10-01</th>\n",
       "      <td>-0.052328</td>\n",
       "      <td>-0.005884</td>\n",
       "    </tr>\n",
       "  </tbody>\n",
       "</table>\n",
       "<p>166 rows × 2 columns</p>\n",
       "</div>"
      ],
      "text/plain": [
       "            Historical VIX futures slope  Stock Returns\n",
       "Period                                                 \n",
       "2005-08-01                     -0.012278      -0.009374\n",
       "2006-02-01                      0.000806       0.005725\n",
       "2006-03-01                      0.021000       0.012478\n",
       "2006-05-01                     -0.014500      -0.030122\n",
       "2006-08-01                     -0.014167       0.021823\n",
       "...                                  ...            ...\n",
       "2024-06-01                     -0.013038       0.031951\n",
       "2024-07-01                     -0.012512       0.015374\n",
       "2024-08-01                     -0.011303       0.023365\n",
       "2024-09-01                     -0.008315       0.017883\n",
       "2024-10-01                     -0.052328      -0.005884\n",
       "\n",
       "[166 rows x 2 columns]"
      ]
     },
     "execution_count": 22,
     "metadata": {},
     "output_type": "execute_result"
    }
   ],
   "source": [
    "## first, we are going to check results with a double LSTM, as normally momentum transformer replaces LSTM because of vanishing gradients\n",
    "doubleLSTM_train_data = pd.DataFrame({ # combining historical vix slope and SPY returns data for training\n",
    "    'Historical VIX futures slope': vix_slope_training,\n",
    "    'Stock Returns': spy_rets_training\n",
    "}).dropna()\n",
    "\n",
    "doubleLSTM_train_data"
   ]
  },
  {
   "cell_type": "markdown",
   "id": "ccb309bf-eedd-4885-a8c0-dd89a88e4456",
   "metadata": {},
   "source": [
    "Moving on, we are going to use StandardScaler to standardize the two variables that are going to be part of the model. In addition to this, we are also feeding to the model the vix slope variable in sequence: instead of providing the data as it is, we are providing sequences of the time series data, so that the model tries to understand the trends in the data over the specified length of the sequence. The idea is that, this way, the model will try to learn the data not taking each data point individually but rather trying to understand the temporal dependencies.\n",
    "In our case, if the length of the sequence is equal to 5, it means the model is learning with sequences of 5-months data. Given this, the length of the sequence can be considered as a hyperparameter and we are going to explore also other possible options."
   ]
  },
  {
   "cell_type": "code",
   "execution_count": 23,
   "id": "2209db0a-2b8e-4d7b-afb6-88ec8797f1f3",
   "metadata": {},
   "outputs": [],
   "source": [
    "scaler_doubleLSTM = StandardScaler() # activating the scaler for standardizing the two variables\n",
    "scaled_features_doubleLSTM = scaler_doubleLSTM.fit_transform(doubleLSTM_train_data) # standardizing\n",
    "\n",
    "X_doubleLSTM, y_doubleLSTM = [], [] # pre-allocating memory for appending standardized values\n",
    "sequence_length = 5 # instead of considering single data points, deciding for the length of a sequence of consecutive observations to fed the model with, in order to try to capture temporal dependencies\n",
    "\n",
    "for i in range(sequence_length, len(scaled_features_doubleLSTM)): # appending\n",
    "    X_doubleLSTM.append(scaled_features_doubleLSTM[i-sequence_length:i]) # TAKE VIX_SLOPE AND NOT SCALED_FEATURES???\n",
    "    y_doubleLSTM.append(spy_rets_training.iloc[i])\n",
    "\n",
    "X_doubleLSTM = np.array(X_doubleLSTM) # turning the list into a numpy array\n",
    "y_doubleLSTM = np.array(y_doubleLSTM) # turning the list into a numpy array"
   ]
  },
  {
   "cell_type": "markdown",
   "id": "f74e42f9-e042-485f-aebf-4ca82e7b63f3",
   "metadata": {},
   "source": [
    "Splitting the two variables into a training and a testing part, for now considering an 80/20 split."
   ]
  },
  {
   "cell_type": "code",
   "execution_count": 24,
   "id": "65b57ad1-1b0c-4050-b2a4-da984ec0dd5c",
   "metadata": {},
   "outputs": [],
   "source": [
    "X_train_doubleLSTM, X_test_doubleLSTM, y_train_doubleLSTM, y_test_doubleLSTM = train_test_split(\n",
    "    X_doubleLSTM, y_doubleLSTM, test_size = 0.2, random_state = 42\n",
    ") # training-testing dataframes split, for now going with 80/20"
   ]
  },
  {
   "cell_type": "markdown",
   "id": "a52664d6-86e8-4a9e-a0e5-e29d22c94cbe",
   "metadata": {},
   "source": [
    "Once the dataframes are prepared, it's time to define the approach we are going to use, and to actually run it to fit it on the training part of the model. We decided to opt for a sequential object with two LSTM: the first one with 64 hidden neurons to initially learn from the data and then a second LSTM, with 32 hidden neurons, to redefine the knowledge in a less complex way. \n",
    "Sigmoid activation function is used (we are exploring the possibility to change it to classification), Adam is the chosen optimizer and the mean squared error was selected as a loss measure."
   ]
  },
  {
   "cell_type": "code",
   "execution_count": 25,
   "id": "91854691-b561-457b-8ab0-ddd329000711",
   "metadata": {},
   "outputs": [
    {
     "name": "stderr",
     "output_type": "stream",
     "text": [
      "C:\\Users\\Alessio Incelli\\anaconda3\\Lib\\site-packages\\keras\\src\\layers\\rnn\\rnn.py:200: UserWarning: Do not pass an `input_shape`/`input_dim` argument to a layer. When using Sequential models, prefer using an `Input(shape)` object as the first layer in the model instead.\n",
      "  super().__init__(**kwargs)\n"
     ]
    },
    {
     "name": "stdout",
     "output_type": "stream",
     "text": [
      "Epoch 1/20\n",
      "\u001b[1m8/8\u001b[0m \u001b[32m━━━━━━━━━━━━━━━━━━━━\u001b[0m\u001b[37m\u001b[0m \u001b[1m6s\u001b[0m 137ms/step - loss: 0.2392 - val_loss: 0.2259\n",
      "Epoch 2/20\n",
      "\u001b[1m8/8\u001b[0m \u001b[32m━━━━━━━━━━━━━━━━━━━━\u001b[0m\u001b[37m\u001b[0m \u001b[1m0s\u001b[0m 16ms/step - loss: 0.2154 - val_loss: 0.1962\n",
      "Epoch 3/20\n",
      "\u001b[1m8/8\u001b[0m \u001b[32m━━━━━━━━━━━━━━━━━━━━\u001b[0m\u001b[37m\u001b[0m \u001b[1m0s\u001b[0m 16ms/step - loss: 0.1810 - val_loss: 0.1454\n",
      "Epoch 4/20\n",
      "\u001b[1m8/8\u001b[0m \u001b[32m━━━━━━━━━━━━━━━━━━━━\u001b[0m\u001b[37m\u001b[0m \u001b[1m0s\u001b[0m 19ms/step - loss: 0.1248 - val_loss: 0.0675\n",
      "Epoch 5/20\n",
      "\u001b[1m8/8\u001b[0m \u001b[32m━━━━━━━━━━━━━━━━━━━━\u001b[0m\u001b[37m\u001b[0m \u001b[1m0s\u001b[0m 17ms/step - loss: 0.0475 - val_loss: 0.0105\n",
      "Epoch 6/20\n",
      "\u001b[1m8/8\u001b[0m \u001b[32m━━━━━━━━━━━━━━━━━━━━\u001b[0m\u001b[37m\u001b[0m \u001b[1m0s\u001b[0m 17ms/step - loss: 0.0070 - val_loss: 0.0027\n",
      "Epoch 7/20\n",
      "\u001b[1m8/8\u001b[0m \u001b[32m━━━━━━━━━━━━━━━━━━━━\u001b[0m\u001b[37m\u001b[0m \u001b[1m0s\u001b[0m 19ms/step - loss: 0.0023 - val_loss: 0.0024\n",
      "Epoch 8/20\n",
      "\u001b[1m8/8\u001b[0m \u001b[32m━━━━━━━━━━━━━━━━━━━━\u001b[0m\u001b[37m\u001b[0m \u001b[1m0s\u001b[0m 22ms/step - loss: 0.0021 - val_loss: 0.0023\n",
      "Epoch 9/20\n",
      "\u001b[1m8/8\u001b[0m \u001b[32m━━━━━━━━━━━━━━━━━━━━\u001b[0m\u001b[37m\u001b[0m \u001b[1m0s\u001b[0m 16ms/step - loss: 0.0018 - val_loss: 0.0023\n",
      "Epoch 10/20\n",
      "\u001b[1m8/8\u001b[0m \u001b[32m━━━━━━━━━━━━━━━━━━━━\u001b[0m\u001b[37m\u001b[0m \u001b[1m0s\u001b[0m 15ms/step - loss: 0.0020 - val_loss: 0.0024\n",
      "Epoch 11/20\n",
      "\u001b[1m8/8\u001b[0m \u001b[32m━━━━━━━━━━━━━━━━━━━━\u001b[0m\u001b[37m\u001b[0m \u001b[1m0s\u001b[0m 20ms/step - loss: 0.0019 - val_loss: 0.0024\n",
      "Epoch 12/20\n",
      "\u001b[1m8/8\u001b[0m \u001b[32m━━━━━━━━━━━━━━━━━━━━\u001b[0m\u001b[37m\u001b[0m \u001b[1m0s\u001b[0m 19ms/step - loss: 0.0020 - val_loss: 0.0024\n",
      "Epoch 13/20\n",
      "\u001b[1m8/8\u001b[0m \u001b[32m━━━━━━━━━━━━━━━━━━━━\u001b[0m\u001b[37m\u001b[0m \u001b[1m0s\u001b[0m 22ms/step - loss: 0.0017 - val_loss: 0.0024\n",
      "Epoch 14/20\n",
      "\u001b[1m8/8\u001b[0m \u001b[32m━━━━━━━━━━━━━━━━━━━━\u001b[0m\u001b[37m\u001b[0m \u001b[1m0s\u001b[0m 17ms/step - loss: 0.0018 - val_loss: 0.0024\n",
      "Epoch 15/20\n",
      "\u001b[1m8/8\u001b[0m \u001b[32m━━━━━━━━━━━━━━━━━━━━\u001b[0m\u001b[37m\u001b[0m \u001b[1m0s\u001b[0m 22ms/step - loss: 0.0019 - val_loss: 0.0024\n",
      "Epoch 16/20\n",
      "\u001b[1m8/8\u001b[0m \u001b[32m━━━━━━━━━━━━━━━━━━━━\u001b[0m\u001b[37m\u001b[0m \u001b[1m0s\u001b[0m 21ms/step - loss: 0.0020 - val_loss: 0.0024\n",
      "Epoch 17/20\n",
      "\u001b[1m8/8\u001b[0m \u001b[32m━━━━━━━━━━━━━━━━━━━━\u001b[0m\u001b[37m\u001b[0m \u001b[1m0s\u001b[0m 15ms/step - loss: 0.0018 - val_loss: 0.0024\n",
      "Epoch 18/20\n",
      "\u001b[1m8/8\u001b[0m \u001b[32m━━━━━━━━━━━━━━━━━━━━\u001b[0m\u001b[37m\u001b[0m \u001b[1m0s\u001b[0m 17ms/step - loss: 0.0018 - val_loss: 0.0023\n",
      "Epoch 19/20\n",
      "\u001b[1m8/8\u001b[0m \u001b[32m━━━━━━━━━━━━━━━━━━━━\u001b[0m\u001b[37m\u001b[0m \u001b[1m0s\u001b[0m 18ms/step - loss: 0.0019 - val_loss: 0.0023\n",
      "Epoch 20/20\n",
      "\u001b[1m8/8\u001b[0m \u001b[32m━━━━━━━━━━━━━━━━━━━━\u001b[0m\u001b[37m\u001b[0m \u001b[1m0s\u001b[0m 17ms/step - loss: 0.0018 - val_loss: 0.0023\n"
     ]
    }
   ],
   "source": [
    "doubleLSTM_model = Sequential([ # grouping layers into a model with Sequential, so that we have one output for each input in a layer\n",
    "    LSTM(64, input_shape = (X_doubleLSTM.shape[1], X_doubleLSTM.shape[2]), return_sequences = True), # first Long-Short Term Memory approach\n",
    "    Dropout(0.2), # first dropout rate\n",
    "    LSTM(32, return_sequences = False), # second Long-Short Term Memory approach\n",
    "    Dropout(0.2), # second dropout rate\n",
    "    Dense(1, activation = 'sigmoid') # the output is a single value, try to see what happens if you change sigmoid with classification\n",
    "])\n",
    "\n",
    "doubleLSTM_model.compile(optimizer = 'adam', loss = 'mean_squared_error') # compiling with adam optimizer and mean-squared error loss\n",
    "res = doubleLSTM_model.fit(X_train_doubleLSTM, y_train_doubleLSTM, # fitting the model on the testing part of the dataframes\n",
    "                            epochs = 20, batch_size = 16, \n",
    "                            validation_data = (X_test_doubleLSTM, y_test_doubleLSTM)) # validation part (IS THIS REALLY NEEDED HERE?)"
   ]
  },
  {
   "cell_type": "markdown",
   "id": "fc51b4fb-622c-4896-afdc-5454c84ad97a",
   "metadata": {},
   "source": [
    "Extracting forecasts and calculating the mean squared error between them and the actually testing part of the SPY returns:"
   ]
  },
  {
   "cell_type": "code",
   "execution_count": 26,
   "id": "b2e19f09-0a35-43e4-8701-a6f4c61b27fe",
   "metadata": {},
   "outputs": [
    {
     "name": "stdout",
     "output_type": "stream",
     "text": [
      "\u001b[1m2/2\u001b[0m \u001b[32m━━━━━━━━━━━━━━━━━━━━\u001b[0m\u001b[37m\u001b[0m \u001b[1m1s\u001b[0m 391ms/step\n",
      "Double LSTM RMSE: 0.04846384502015212\n"
     ]
    }
   ],
   "source": [
    "forecasts_doubleLSTM = doubleLSTM_model.predict(X_test_doubleLSTM) # we can eventually check the forecasts on the testing part of the x variables\n",
    "rmse_doubleLSTM = np.sqrt(mean_squared_error(y_test_doubleLSTM, forecasts_doubleLSTM)) # calculating root mean squared error as error measure between testing part of returns and forecasts\n",
    "print(\"Double LSTM RMSE:\", rmse_doubleLSTM)"
   ]
  },
  {
   "cell_type": "markdown",
   "id": "4954cb99-45cd-491f-8e6a-24057dff405e",
   "metadata": {},
   "source": [
    "The MSE value obtained is around 0.048, which is a small enough value to state that the forecasts of the SPY returns seem to be accurate."
   ]
  },
  {
   "cell_type": "markdown",
   "id": "e8517c3c-6e1a-486c-b616-34b0a48f5ea1",
   "metadata": {},
   "source": [
    "## **2.2: Momentum transformer**"
   ]
  },
  {
   "cell_type": "code",
   "execution_count": 27,
   "id": "af7fb14b-9d48-4769-91f7-7beb6bc99406",
   "metadata": {},
   "outputs": [],
   "source": [
    "## building the proper Momentum Transformer model\n",
    "spy_rets_training = correlation_dataset['SPY returns'] # identifying the historical SPY returns for training\n",
    "vix_slope_training = correlation_dataset['vix_slope'] # identifying the historical VIX slope for training"
   ]
  },
  {
   "cell_type": "code",
   "execution_count": 28,
   "id": "9c1d5594-a8c1-4fb1-a429-fcec66ea9282",
   "metadata": {},
   "outputs": [],
   "source": [
    "class transformer_core(Layer): # main class for the transformer model\n",
    "    def __init__(self, embed_dim, num_heads, ff_dim, rate = 0.1):\n",
    "        super(transformer_core, self).__init__()\n",
    "        self.att = tf.keras.layers.MultiHeadAttention(num_heads = num_heads, key_dim = embed_dim) # applying self-attention mechanism over the input sequence\n",
    "        self.ffn = tf.keras.Sequential([ # after self-attention mechanism, two dense layers are used to process each token in an isolated way\n",
    "            Dense(ff_dim, activation = 'relu'), # ReLu activation function  \n",
    "            Dense(embed_dim),\n",
    "        ])\n",
    "        self.layernorm1 = LayerNormalization(epsilon = 1e-6) # the input is normalized so that the training is faster and more stable\n",
    "        self.layernorm2 = LayerNormalization(epsilon = 1e-6) # done for both layers\n",
    "        self.dropout1 = Dropout(rate) # first dropout rate\n",
    "        self.dropout2 = Dropout(rate) # second dropout rate\n",
    "\n",
    "    def call(self, inputs, training): # here we define a class for designing how the input is fed to the layers\n",
    "        attn_output = self.att(inputs, inputs) # self-attention\n",
    "        attn_output = self.dropout1(attn_output, training = training) # the dropout makes the neurons alive in a random fashion\n",
    "        out1 = self.layernorm1(inputs + attn_output) # as well as inputs, here we normalize the output\n",
    "        ffn_output = self.ffn(out1) # transforming the normalized output\n",
    "        ffn_output = self.dropout2(ffn_output, training = training)\n",
    "        return self.layernorm2(out1 + ffn_output)"
   ]
  },
  {
   "cell_type": "code",
   "execution_count": 29,
   "id": "917d337f-a4ae-4f45-91fb-4196af029273",
   "metadata": {},
   "outputs": [],
   "source": [
    "class positionalencoding(Layer): # defining another class for the positional encoding step of the transformer\n",
    "    def __init__(self, sequence_length, embed_dim):\n",
    "        super(positionalencoding, self).__init__()\n",
    "        self.pos_encoding = self.positional_encoding(sequence_length, embed_dim) # the positional encoding will learn temporal dependencies with the length of sequence for input data that we decided\n",
    "\n",
    "    def get_angles(self, pos, i, d_model): # defining a function to calculate sin and cosin of the angle\n",
    "        angle_degree = 1 / np.power(10000, (2 * (i // 2)) / np.float32(d_model))\n",
    "        return pos * angle_degree\n",
    "\n",
    "    def positional_encoding(self, position, d_model): # here we define a function for proper positional encoding, which takes as inputs the maximum length of a sequence (position) and the dimension of each embedding (d_model)\n",
    "        angle_rads = self.get_angles(np.arange(position)[:, np.newaxis], # creating an array of integers showing the positions in the sequence\n",
    "                                     np.arange(d_model)[np.newaxis, :], # creating an array for the dimensions of the embeddings\n",
    "                                     d_model) \n",
    "        angle_rads[:, 0::2] = np.sin(angle_rads[:, 0::2]) # applying the sine function to all columns with an even number\n",
    "        angle_rads[:, 1::2] = np.cos(angle_rads[:, 1::2]) # applying the cosine function to all columns with an odd number\n",
    "        return tf.cast(angle_rads[np.newaxis, ...], dtype=tf.float32)\n",
    "\n",
    "    def call(self, inputs): # defining a function to add everything built in the positional encoding to the initial input data\n",
    "        return inputs + self.pos_encoding[:, :tf.shape(inputs)[1], :]"
   ]
  },
  {
   "cell_type": "code",
   "execution_count": 30,
   "id": "993cfba2-5afc-4b2f-98c3-cd1fde5f9541",
   "metadata": {},
   "outputs": [],
   "source": [
    "def momentum_transformer(sequence_length, feature_dim): # defining a function for a transformer based neural network, that takes as inputs the window size and the features\n",
    "    embed_dim = 32  # setting the size of embedding dimensions for each token\n",
    "    num_heads = 4  # setting the number of heads in the multi-head attention mechanism\n",
    "    ff_dim = 128  # setting the number of hidden neurons for the feed forward network\n",
    "    inputs = Input(shape = (sequence_length, feature_dim)) # storing memory for input data, where the shape is given by the length of each sequence and the feature dimension\n",
    "    x = Dense(embed_dim)(inputs) # fully connected (dense) layer is applied to transform the input features into a higher-dimensional space of size given by the embedding dimension\n",
    "    x = positionalencoding(sequence_length, embed_dim)(x) # applying positional encoding to the inputs\n",
    "    x = transformer_core(embed_dim, num_heads, ff_dim)(x, training = True) # launching the core transformer class\n",
    "    x = GlobalAveragePooling1D()(x) # computing the mean across for all points in time for future dimension, after this the sequence becomes a single vector\n",
    "    x = Dropout(0.1)(x) # applying dropout, here with a probability of 10% to prevent overfitting (it means that 10% of the elements in x are being put equal to zero)\n",
    "    x = Dense(20, activation = 'relu')(x) # applying a dense layer with 20 neurons and ReLu activation function\n",
    "    x = Dropout(0.1)(x) # a second dropout rate is applied, again 10%\n",
    "    outputs = Dense(1, activation = 'sigmoid')(x) # the last dense layer for output is applied with 1 neuron and sigmoid activation function\n",
    "    model = Model(inputs = inputs, outputs = outputs) # creating a model object, using the defined inputs and outputs\n",
    "    model.compile(optimizer = 'adam', loss = 'mean_squared_error') # compiling the model, using adam optimizer and mean squared error as a loss measure, also to compare with double LSTM approach\n",
    "    return model"
   ]
  },
  {
   "cell_type": "code",
   "execution_count": 31,
   "id": "912a1e3f-e102-4576-9ce6-e7888449baa0",
   "metadata": {},
   "outputs": [],
   "source": [
    "sequence_length = 5 # the length of the sequence is set the same as for double LSTM approach\n",
    "scaler_transformer = StandardScaler() # activating standard scaler\n",
    "transformed_data = scaler_transformer.fit_transform(pd.DataFrame({ # grouping the vix slope and spy rets data together, as before\n",
    "    'Historical VIX futures slope': vix_slope_training,\n",
    "    'Stock Returns': spy_rets_training\n",
    "}).dropna()) # dropping NAs"
   ]
  },
  {
   "cell_type": "code",
   "execution_count": 32,
   "id": "ebb6a46c-6092-4680-a7b3-0b49d37905d7",
   "metadata": {},
   "outputs": [],
   "source": [
    "X_transformer, y_transformer = [], [] # as before, pre-allocating memory for x and y dataframes\n",
    "for i in range(sequence_length, len(transformed_data)): # as before, appending data using the length of sequence\n",
    "    X_transformer.append(transformed_data[i-sequence_length:i])\n",
    "    y_transformer.append(spy_rets_training.iloc[i])\n",
    "\n",
    "X_transformer = np.array(X_transformer) # turning into a numpy array\n",
    "y_transformer = np.array(y_transformer) # turning into a numpy array"
   ]
  },
  {
   "cell_type": "code",
   "execution_count": 33,
   "id": "b1bbcab8-6805-46f2-a961-00e1693f3a65",
   "metadata": {},
   "outputs": [
    {
     "name": "stdout",
     "output_type": "stream",
     "text": [
      "WARNING:tensorflow:From C:\\Users\\Alessio Incelli\\anaconda3\\Lib\\site-packages\\keras\\src\\backend\\tensorflow\\core.py:216: The name tf.placeholder is deprecated. Please use tf.compat.v1.placeholder instead.\n",
      "\n",
      "Epoch 1/20\n",
      "\u001b[1m8/8\u001b[0m \u001b[32m━━━━━━━━━━━━━━━━━━━━\u001b[0m\u001b[37m\u001b[0m \u001b[1m7s\u001b[0m 85ms/step - loss: 0.1455 - val_loss: 0.0061\n",
      "Epoch 2/20\n",
      "\u001b[1m8/8\u001b[0m \u001b[32m━━━━━━━━━━━━━━━━━━━━\u001b[0m\u001b[37m\u001b[0m \u001b[1m0s\u001b[0m 13ms/step - loss: 0.0104 - val_loss: 0.0031\n",
      "Epoch 3/20\n",
      "\u001b[1m8/8\u001b[0m \u001b[32m━━━━━━━━━━━━━━━━━━━━\u001b[0m\u001b[37m\u001b[0m \u001b[1m0s\u001b[0m 18ms/step - loss: 0.0045 - val_loss: 0.0026\n",
      "Epoch 4/20\n",
      "\u001b[1m8/8\u001b[0m \u001b[32m━━━━━━━━━━━━━━━━━━━━\u001b[0m\u001b[37m\u001b[0m \u001b[1m0s\u001b[0m 17ms/step - loss: 0.0031 - val_loss: 0.0024\n",
      "Epoch 5/20\n",
      "\u001b[1m8/8\u001b[0m \u001b[32m━━━━━━━━━━━━━━━━━━━━\u001b[0m\u001b[37m\u001b[0m \u001b[1m0s\u001b[0m 17ms/step - loss: 0.0033 - val_loss: 0.0024\n",
      "Epoch 6/20\n",
      "\u001b[1m8/8\u001b[0m \u001b[32m━━━━━━━━━━━━━━━━━━━━\u001b[0m\u001b[37m\u001b[0m \u001b[1m0s\u001b[0m 17ms/step - loss: 0.0023 - val_loss: 0.0024\n",
      "Epoch 7/20\n",
      "\u001b[1m8/8\u001b[0m \u001b[32m━━━━━━━━━━━━━━━━━━━━\u001b[0m\u001b[37m\u001b[0m \u001b[1m0s\u001b[0m 15ms/step - loss: 0.0022 - val_loss: 0.0023\n",
      "Epoch 8/20\n",
      "\u001b[1m8/8\u001b[0m \u001b[32m━━━━━━━━━━━━━━━━━━━━\u001b[0m\u001b[37m\u001b[0m \u001b[1m0s\u001b[0m 16ms/step - loss: 0.0018 - val_loss: 0.0023\n",
      "Epoch 9/20\n",
      "\u001b[1m8/8\u001b[0m \u001b[32m━━━━━━━━━━━━━━━━━━━━\u001b[0m\u001b[37m\u001b[0m \u001b[1m0s\u001b[0m 16ms/step - loss: 0.0022 - val_loss: 0.0023\n",
      "Epoch 10/20\n",
      "\u001b[1m8/8\u001b[0m \u001b[32m━━━━━━━━━━━━━━━━━━━━\u001b[0m\u001b[37m\u001b[0m \u001b[1m0s\u001b[0m 17ms/step - loss: 0.0028 - val_loss: 0.0023\n",
      "Epoch 11/20\n",
      "\u001b[1m8/8\u001b[0m \u001b[32m━━━━━━━━━━━━━━━━━━━━\u001b[0m\u001b[37m\u001b[0m \u001b[1m0s\u001b[0m 15ms/step - loss: 0.0017 - val_loss: 0.0023\n",
      "Epoch 12/20\n",
      "\u001b[1m8/8\u001b[0m \u001b[32m━━━━━━━━━━━━━━━━━━━━\u001b[0m\u001b[37m\u001b[0m \u001b[1m0s\u001b[0m 19ms/step - loss: 0.0021 - val_loss: 0.0023\n",
      "Epoch 13/20\n",
      "\u001b[1m8/8\u001b[0m \u001b[32m━━━━━━━━━━━━━━━━━━━━\u001b[0m\u001b[37m\u001b[0m \u001b[1m0s\u001b[0m 17ms/step - loss: 0.0018 - val_loss: 0.0023\n",
      "Epoch 14/20\n",
      "\u001b[1m8/8\u001b[0m \u001b[32m━━━━━━━━━━━━━━━━━━━━\u001b[0m\u001b[37m\u001b[0m \u001b[1m0s\u001b[0m 15ms/step - loss: 0.0032 - val_loss: 0.0023\n",
      "Epoch 15/20\n",
      "\u001b[1m8/8\u001b[0m \u001b[32m━━━━━━━━━━━━━━━━━━━━\u001b[0m\u001b[37m\u001b[0m \u001b[1m0s\u001b[0m 13ms/step - loss: 0.0020 - val_loss: 0.0023\n",
      "Epoch 16/20\n",
      "\u001b[1m8/8\u001b[0m \u001b[32m━━━━━━━━━━━━━━━━━━━━\u001b[0m\u001b[37m\u001b[0m \u001b[1m0s\u001b[0m 11ms/step - loss: 0.0019 - val_loss: 0.0024\n",
      "Epoch 17/20\n",
      "\u001b[1m8/8\u001b[0m \u001b[32m━━━━━━━━━━━━━━━━━━━━\u001b[0m\u001b[37m\u001b[0m \u001b[1m0s\u001b[0m 15ms/step - loss: 0.0017 - val_loss: 0.0024\n",
      "Epoch 18/20\n",
      "\u001b[1m8/8\u001b[0m \u001b[32m━━━━━━━━━━━━━━━━━━━━\u001b[0m\u001b[37m\u001b[0m \u001b[1m0s\u001b[0m 18ms/step - loss: 0.0022 - val_loss: 0.0024\n",
      "Epoch 19/20\n",
      "\u001b[1m8/8\u001b[0m \u001b[32m━━━━━━━━━━━━━━━━━━━━\u001b[0m\u001b[37m\u001b[0m \u001b[1m0s\u001b[0m 20ms/step - loss: 0.0019 - val_loss: 0.0024\n",
      "Epoch 20/20\n",
      "\u001b[1m8/8\u001b[0m \u001b[32m━━━━━━━━━━━━━━━━━━━━\u001b[0m\u001b[37m\u001b[0m \u001b[1m0s\u001b[0m 20ms/step - loss: 0.0017 - val_loss: 0.0024\n"
     ]
    },
    {
     "data": {
      "text/plain": [
       "<keras.src.callbacks.history.History at 0x21d86d233d0>"
      ]
     },
     "execution_count": 33,
     "metadata": {},
     "output_type": "execute_result"
    }
   ],
   "source": [
    "X_train_transformer, X_test_transformer, y_train_transformer, y_test_transformer = train_test_split(\n",
    "    X_transformer, y_transformer, test_size = 0.2, random_state = 42) # same type of split\n",
    "\n",
    "transformer_model = momentum_transformer(sequence_length, X_transformer.shape[2]) # running the momentum transformer model\n",
    "transformer_model.fit(X_train_transformer, y_train_transformer, epochs = 20, batch_size = 16, validation_data = (X_test_transformer, y_test_transformer)) # fitting the momentum transformer on training data and validating"
   ]
  },
  {
   "cell_type": "code",
   "execution_count": 34,
   "id": "5bdbf058-fd94-49b1-aa39-f28f231a7b25",
   "metadata": {},
   "outputs": [
    {
     "name": "stdout",
     "output_type": "stream",
     "text": [
      "\u001b[1m2/2\u001b[0m \u001b[32m━━━━━━━━━━━━━━━━━━━━\u001b[0m\u001b[37m\u001b[0m \u001b[1m1s\u001b[0m 347ms/step\n"
     ]
    },
    {
     "data": {
      "text/plain": [
       "array([[0.00341543],\n",
       "       [0.00348032],\n",
       "       [0.00414725],\n",
       "       [0.00378472],\n",
       "       [0.00370054],\n",
       "       [0.00365845],\n",
       "       [0.00452455],\n",
       "       [0.00378829],\n",
       "       [0.00455904],\n",
       "       [0.0041908 ],\n",
       "       [0.00614561],\n",
       "       [0.00351433],\n",
       "       [0.00356073],\n",
       "       [0.00337183],\n",
       "       [0.00368025],\n",
       "       [0.00367735],\n",
       "       [0.00455595],\n",
       "       [0.00355692],\n",
       "       [0.00370766],\n",
       "       [0.00362092],\n",
       "       [0.00349126],\n",
       "       [0.00430847],\n",
       "       [0.00444773],\n",
       "       [0.00382269],\n",
       "       [0.00391815],\n",
       "       [0.00373875],\n",
       "       [0.00352538],\n",
       "       [0.00381887],\n",
       "       [0.00360026],\n",
       "       [0.00355737],\n",
       "       [0.00373017],\n",
       "       [0.00367052],\n",
       "       [0.00367165]], dtype=float32)"
      ]
     },
     "execution_count": 34,
     "metadata": {},
     "output_type": "execute_result"
    }
   ],
   "source": [
    "forecasts_transformer = transformer_model.predict(X_test_transformer) # predicting forecasts using testing data of the vix slopeforecasts_transformer\n",
    "forecasts_transformer"
   ]
  },
  {
   "cell_type": "code",
   "execution_count": 35,
   "id": "b52b5c31-d3e2-4c19-9fa0-9c0a986622e5",
   "metadata": {},
   "outputs": [
    {
     "name": "stdout",
     "output_type": "stream",
     "text": [
      "Transformer RMSE: 0.048526478880318816\n"
     ]
    }
   ],
   "source": [
    "rmse_transformer = np.sqrt(mean_squared_error(y_test_transformer, forecasts_transformer)) # computing mean-squared error\n",
    "print(\"Transformer RMSE:\", rmse_transformer)"
   ]
  },
  {
   "cell_type": "markdown",
   "id": "5dd0d606-336d-4a56-8647-c4efd986cc86",
   "metadata": {},
   "source": [
    "# **Step 3: Using trained model for forecasting 2025 scenarios**"
   ]
  },
  {
   "cell_type": "markdown",
   "id": "d5fe13e1-ccb8-40aa-ab2e-bb568b4a85b6",
   "metadata": {},
   "source": [
    "As of now, given that it is impossible to have true values of SPY returns for the 2025 as they still don't exist, instead of setting up another machine learning/deep learning model to forecast them, our proposal is to use the estimates of SPY prices, for the whole 2025, provided by the Economy Forecast Agency (EFA). Their website is the following: https://usdforecast.com/ , and the specific estimates we are taking are here:  https://longforecast.com/spy-stock"
   ]
  },
  {
   "cell_type": "code",
   "execution_count": 37,
   "id": "808040e8-7cbd-4bf1-b48b-8d8576d60c0f",
   "metadata": {},
   "outputs": [
    {
     "data": {
      "text/html": [
       "<div>\n",
       "<style scoped>\n",
       "    .dataframe tbody tr th:only-of-type {\n",
       "        vertical-align: middle;\n",
       "    }\n",
       "\n",
       "    .dataframe tbody tr th {\n",
       "        vertical-align: top;\n",
       "    }\n",
       "\n",
       "    .dataframe thead th {\n",
       "        text-align: right;\n",
       "    }\n",
       "</style>\n",
       "<table border=\"1\" class=\"dataframe\">\n",
       "  <thead>\n",
       "    <tr style=\"text-align: right;\">\n",
       "      <th></th>\n",
       "      <th>Month</th>\n",
       "      <th>Close</th>\n",
       "    </tr>\n",
       "  </thead>\n",
       "  <tbody>\n",
       "    <tr>\n",
       "      <th>0</th>\n",
       "      <td>Feb</td>\n",
       "      <td>603</td>\n",
       "    </tr>\n",
       "    <tr>\n",
       "      <th>1</th>\n",
       "      <td>Mar</td>\n",
       "      <td>605</td>\n",
       "    </tr>\n",
       "    <tr>\n",
       "      <th>2</th>\n",
       "      <td>Apr</td>\n",
       "      <td>621</td>\n",
       "    </tr>\n",
       "    <tr>\n",
       "      <th>3</th>\n",
       "      <td>May</td>\n",
       "      <td>604</td>\n",
       "    </tr>\n",
       "    <tr>\n",
       "      <th>4</th>\n",
       "      <td>Jun</td>\n",
       "      <td>637</td>\n",
       "    </tr>\n",
       "    <tr>\n",
       "      <th>5</th>\n",
       "      <td>Jul</td>\n",
       "      <td>640</td>\n",
       "    </tr>\n",
       "    <tr>\n",
       "      <th>6</th>\n",
       "      <td>Aug</td>\n",
       "      <td>646</td>\n",
       "    </tr>\n",
       "    <tr>\n",
       "      <th>7</th>\n",
       "      <td>Sep</td>\n",
       "      <td>679</td>\n",
       "    </tr>\n",
       "  </tbody>\n",
       "</table>\n",
       "</div>"
      ],
      "text/plain": [
       "  Month  Close\n",
       "0   Feb    603\n",
       "1   Mar    605\n",
       "2   Apr    621\n",
       "3   May    604\n",
       "4   Jun    637\n",
       "5   Jul    640\n",
       "6   Aug    646\n",
       "7   Sep    679"
      ]
     },
     "execution_count": 37,
     "metadata": {},
     "output_type": "execute_result"
    }
   ],
   "source": [
    "spy_prices_pred_2025 = pd.read_excel('spy_pred_2025.xlsx') # uploading predicted prices of SPY for 2025\n",
    "spy_prices_pred_2025 = spy_prices_pred_2025[['Month', 'Close']] # taking only the month and the close prices\n",
    "spy_prices_pred_2025 = spy_prices_pred_2025[:-3] # removing October, November and December 2025 to align with VIX futures data\n",
    "spy_prices_pred_2025"
   ]
  },
  {
   "cell_type": "code",
   "execution_count": 38,
   "id": "658c6d98-0b24-43d3-82f6-23d2352dd3a4",
   "metadata": {},
   "outputs": [
    {
     "data": {
      "text/html": [
       "<div>\n",
       "<style scoped>\n",
       "    .dataframe tbody tr th:only-of-type {\n",
       "        vertical-align: middle;\n",
       "    }\n",
       "\n",
       "    .dataframe tbody tr th {\n",
       "        vertical-align: top;\n",
       "    }\n",
       "\n",
       "    .dataframe thead th {\n",
       "        text-align: right;\n",
       "    }\n",
       "</style>\n",
       "<table border=\"1\" class=\"dataframe\">\n",
       "  <thead>\n",
       "    <tr style=\"text-align: right;\">\n",
       "      <th></th>\n",
       "      <th>Period</th>\n",
       "      <th>vix_slope</th>\n",
       "    </tr>\n",
       "  </thead>\n",
       "  <tbody>\n",
       "    <tr>\n",
       "      <th>0</th>\n",
       "      <td>2025-02-01 00:00:00</td>\n",
       "      <td>0.021137</td>\n",
       "    </tr>\n",
       "    <tr>\n",
       "      <th>1</th>\n",
       "      <td>2025-03-01 00:00:00</td>\n",
       "      <td>0.027598</td>\n",
       "    </tr>\n",
       "    <tr>\n",
       "      <th>2</th>\n",
       "      <td>2025-04-01 00:00:00</td>\n",
       "      <td>0.015967</td>\n",
       "    </tr>\n",
       "    <tr>\n",
       "      <th>3</th>\n",
       "      <td>2025-05-01 00:00:00</td>\n",
       "      <td>0.009423</td>\n",
       "    </tr>\n",
       "    <tr>\n",
       "      <th>4</th>\n",
       "      <td>2025-06-01 00:00:00</td>\n",
       "      <td>0.005870</td>\n",
       "    </tr>\n",
       "    <tr>\n",
       "      <th>5</th>\n",
       "      <td>2025-07-01 00:00:00</td>\n",
       "      <td>0.007075</td>\n",
       "    </tr>\n",
       "    <tr>\n",
       "      <th>6</th>\n",
       "      <td>2025-08-01 00:00:00</td>\n",
       "      <td>0.004193</td>\n",
       "    </tr>\n",
       "    <tr>\n",
       "      <th>7</th>\n",
       "      <td>2025-09-01 00:00:00</td>\n",
       "      <td>0.004583</td>\n",
       "    </tr>\n",
       "  </tbody>\n",
       "</table>\n",
       "</div>"
      ],
      "text/plain": [
       "                Period  vix_slope\n",
       "0  2025-02-01 00:00:00   0.021137\n",
       "1  2025-03-01 00:00:00   0.027598\n",
       "2  2025-04-01 00:00:00   0.015967\n",
       "3  2025-05-01 00:00:00   0.009423\n",
       "4  2025-06-01 00:00:00   0.005870\n",
       "5  2025-07-01 00:00:00   0.007075\n",
       "6  2025-08-01 00:00:00   0.004193\n",
       "7  2025-09-01 00:00:00   0.004583"
      ]
     },
     "execution_count": 38,
     "metadata": {},
     "output_type": "execute_result"
    }
   ],
   "source": [
    "forward_vix_slope = constant_maturity_ahead[['Period', 'vix_slope']] # storing the ahead vix slope in a new variable\n",
    "forward_vix_slope = forward_vix_slope.dropna().reset_index(drop = True) # dropping NAs and resetting index as it does not start from 0forward_vix_slope\n",
    "forward_vix_slope"
   ]
  },
  {
   "cell_type": "code",
   "execution_count": 39,
   "id": "8beeca88-6264-4b52-a64a-4db1b22b92f1",
   "metadata": {},
   "outputs": [
    {
     "data": {
      "text/plain": [
       "array([[2.11366667e-02, 6.03000000e+02],\n",
       "       [2.75983333e-02, 6.05000000e+02],\n",
       "       [1.59666667e-02, 6.21000000e+02],\n",
       "       [9.42333333e-03, 6.04000000e+02],\n",
       "       [5.87000000e-03, 6.37000000e+02],\n",
       "       [7.07500000e-03, 6.40000000e+02],\n",
       "       [4.19333333e-03, 6.46000000e+02],\n",
       "       [4.58333333e-03, 6.79000000e+02]])"
      ]
     },
     "execution_count": 39,
     "metadata": {},
     "output_type": "execute_result"
    }
   ],
   "source": [
    "transformer_data = pd.DataFrame({ # grouping the vix slope and spy rets data together, as before\n",
    "    '2025 VIX futures slope': forward_vix_slope['vix_slope'],\n",
    "    'Stock Returns': spy_prices_pred_2025['Close']\n",
    "}).dropna() # dropping NAs\n",
    "\n",
    "transformer_data = np.array(transformer_data) # turning the dataframe into a numpy array, as it is needed by the transformer model\n",
    "transformer_data"
   ]
  },
  {
   "cell_type": "code",
   "execution_count": 40,
   "id": "c7bdd26f-325e-4734-8c44-61d83afbd908",
   "metadata": {},
   "outputs": [
    {
     "data": {
      "text/plain": [
       "array([[[2.11366667e-02, 6.03000000e+02],\n",
       "        [2.75983333e-02, 6.05000000e+02],\n",
       "        [1.59666667e-02, 6.21000000e+02],\n",
       "        [9.42333333e-03, 6.04000000e+02],\n",
       "        [5.87000000e-03, 6.37000000e+02]],\n",
       "\n",
       "       [[2.75983333e-02, 6.05000000e+02],\n",
       "        [1.59666667e-02, 6.21000000e+02],\n",
       "        [9.42333333e-03, 6.04000000e+02],\n",
       "        [5.87000000e-03, 6.37000000e+02],\n",
       "        [7.07500000e-03, 6.40000000e+02]],\n",
       "\n",
       "       [[1.59666667e-02, 6.21000000e+02],\n",
       "        [9.42333333e-03, 6.04000000e+02],\n",
       "        [5.87000000e-03, 6.37000000e+02],\n",
       "        [7.07500000e-03, 6.40000000e+02],\n",
       "        [4.19333333e-03, 6.46000000e+02]],\n",
       "\n",
       "       [[9.42333333e-03, 6.04000000e+02],\n",
       "        [5.87000000e-03, 6.37000000e+02],\n",
       "        [7.07500000e-03, 6.40000000e+02],\n",
       "        [4.19333333e-03, 6.46000000e+02],\n",
       "        [4.58333333e-03, 6.79000000e+02]],\n",
       "\n",
       "       [[5.87000000e-03, 6.37000000e+02],\n",
       "        [7.07500000e-03, 6.40000000e+02],\n",
       "        [4.19333333e-03, 6.46000000e+02],\n",
       "        [4.58333333e-03, 6.79000000e+02],\n",
       "        [2.11366667e-02, 6.03000000e+02]],\n",
       "\n",
       "       [[7.07500000e-03, 6.40000000e+02],\n",
       "        [4.19333333e-03, 6.46000000e+02],\n",
       "        [4.58333333e-03, 6.79000000e+02],\n",
       "        [2.11366667e-02, 6.03000000e+02],\n",
       "        [2.75983333e-02, 6.05000000e+02]],\n",
       "\n",
       "       [[4.19333333e-03, 6.46000000e+02],\n",
       "        [4.58333333e-03, 6.79000000e+02],\n",
       "        [2.11366667e-02, 6.03000000e+02],\n",
       "        [2.75983333e-02, 6.05000000e+02],\n",
       "        [1.59666667e-02, 6.21000000e+02]],\n",
       "\n",
       "       [[4.58333333e-03, 6.79000000e+02],\n",
       "        [2.11366667e-02, 6.03000000e+02],\n",
       "        [2.75983333e-02, 6.05000000e+02],\n",
       "        [1.59666667e-02, 6.21000000e+02],\n",
       "        [9.42333333e-03, 6.04000000e+02]]])"
      ]
     },
     "execution_count": 40,
     "metadata": {},
     "output_type": "execute_result"
    }
   ],
   "source": [
    "# now the vix slope variable needs to be transformed into an array of shape similar to the one used for train\n",
    "# therefore I am setting the final parameters I want:\n",
    "num_obs = 8 # Number of observations (because we have 8 observations for the 2025 forward VIX futures slope)\n",
    "timesteps = 5 # sequence used to train the model\n",
    "features = 2 # variables \n",
    "\n",
    "transformer_expanded_data = np.zeros((num_obs, timesteps, features))# storing memory for the expanded data\n",
    "\n",
    "for i in range(num_obs): # expanding the data repeating values but making sure that each value appears at least once\n",
    "    for t in range(timesteps):\n",
    "        transformer_expanded_data[i, t] = transformer_data[(i + t) % num_obs]\n",
    "\n",
    "transformer_expanded_data"
   ]
  },
  {
   "cell_type": "code",
   "execution_count": 41,
   "id": "1214acf9-03b3-435c-bcda-953531ca7775",
   "metadata": {},
   "outputs": [
    {
     "name": "stdout",
     "output_type": "stream",
     "text": [
      "\u001b[1m1/1\u001b[0m \u001b[32m━━━━━━━━━━━━━━━━━━━━\u001b[0m\u001b[37m\u001b[0m \u001b[1m0s\u001b[0m 40ms/step\n"
     ]
    },
    {
     "data": {
      "text/plain": [
       "array([0.07278819, 0.07308782, 0.07329683, 0.07263068, 0.07260047,\n",
       "       0.07216654, 0.07195894, 0.07149825], dtype=float32)"
      ]
     },
     "execution_count": 41,
     "metadata": {},
     "output_type": "execute_result"
    }
   ],
   "source": [
    "initial_mom_prob = transformer_model.predict(transformer_expanded_data).flatten() # creating initial momentum probabilities using the trained transformer model\n",
    "initial_mom_prob"
   ]
  },
  {
   "cell_type": "code",
   "execution_count": 42,
   "id": "505b01f2-9fa0-4b82-88e4-ae4ab91d89e2",
   "metadata": {},
   "outputs": [],
   "source": [
    "def momentum_signal(vix_slope): # defining a function for the momentum signal\n",
    "    return np.sign(vix_slope)  # momentum signal is activated when VIX future slope is decreasing (contango steepening)\n",
    "\n",
    "def mean_reversion_signal(stock_returns): # defining a function for the mean reversion signal\n",
    "    return -np.sign(stock_returns)  # mean reversion signal is activated when returns are extreme"
   ]
  },
  {
   "cell_type": "code",
   "execution_count": 43,
   "id": "81a28e0d-8f7f-43e0-8ee5-e58da455cd19",
   "metadata": {},
   "outputs": [
    {
     "data": {
      "text/plain": [
       "array(['Mean Reversion', 'Momentum', 'Momentum', 'Mean Reversion',\n",
       "       'Momentum', 'Momentum', 'Momentum', 'Momentum'], dtype='<U14')"
      ]
     },
     "execution_count": 43,
     "metadata": {},
     "output_type": "execute_result"
    }
   ],
   "source": [
    "# generating trading signals\n",
    "momentum_component = initial_mom_prob * momentum_signal(forward_vix_slope['vix_slope']) # momentum signals are given by the momentum probabilities multiplied by whether the vix slope gives us momentum vibes\n",
    "mean_reversion_component = (1 - initial_mom_prob) * mean_reversion_signal(spy_prices_pred_2025['Close'].pct_change()) # mean reversion signals are given by the momentum probabilities multiplied by whether the returns give us mean reversion vibes\n",
    "trading_signal = momentum_component + mean_reversion_component # summing\n",
    "\n",
    "strategy_type = np.where(momentum_component > mean_reversion_component, \"Momentum\", \"Mean Reversion\") # showing the active strategy at each time step\n",
    "strategy_type"
   ]
  },
  {
   "cell_type": "code",
   "execution_count": 44,
   "id": "babdc042-bc23-411c-abbd-96a722b4d99b",
   "metadata": {},
   "outputs": [],
   "source": [
    "def backtest_trading_signals(signals, stock_prices, initial_capital = 1000): # function for an initial backtest with a simulated initial capital of 1,000 euro\n",
    "    monthly_returns = stock_prices.pct_change().fillna(0) # monthly returns are calculated as percentage difference\n",
    "    #strategy_returns = signals * daily_returns\n",
    "    strategy_returns = signals.shift(1).fillna(0) * monthly_returns  # shift to avoid lookahead bias\n",
    "    cumulative_returns = (1 + strategy_returns).cumprod() # cumulative multiplication of returns\n",
    "    portfolio_value = initial_capital * cumulative_returns  # portfolio evolution over time\n",
    "    return portfolio_value, strategy_returns\n",
    "\n",
    "# running backtest on the trading signal previously generated and the spy predicted prices for 2025\n",
    "portfolio_value, strategy_returns = backtest_trading_signals(pd.Series(trading_signal, index = spy_prices_pred_2025.index), \n",
    "                                                              spy_prices_pred_2025['Close'])"
   ]
  },
  {
   "cell_type": "code",
   "execution_count": 45,
   "id": "76060603-88d7-4555-8e0c-e43dd98b5ee6",
   "metadata": {},
   "outputs": [
    {
     "data": {
      "text/html": [
       "<div>\n",
       "<style scoped>\n",
       "    .dataframe tbody tr th:only-of-type {\n",
       "        vertical-align: middle;\n",
       "    }\n",
       "\n",
       "    .dataframe tbody tr th {\n",
       "        vertical-align: top;\n",
       "    }\n",
       "\n",
       "    .dataframe thead th {\n",
       "        text-align: right;\n",
       "    }\n",
       "</style>\n",
       "<table border=\"1\" class=\"dataframe\">\n",
       "  <thead>\n",
       "    <tr style=\"text-align: right;\">\n",
       "      <th></th>\n",
       "      <th>SPY Price</th>\n",
       "      <th>VIX Slope</th>\n",
       "      <th>Trading Signal</th>\n",
       "      <th>Active Strategy</th>\n",
       "      <th>Daily Strategy Return</th>\n",
       "    </tr>\n",
       "    <tr>\n",
       "      <th>Date</th>\n",
       "      <th></th>\n",
       "      <th></th>\n",
       "      <th></th>\n",
       "      <th></th>\n",
       "      <th></th>\n",
       "    </tr>\n",
       "  </thead>\n",
       "  <tbody>\n",
       "    <tr>\n",
       "      <th>2025-02-01</th>\n",
       "      <td>603</td>\n",
       "      <td>0.021137</td>\n",
       "      <td>NaN</td>\n",
       "      <td>Mean Reversion</td>\n",
       "      <td>0.000000</td>\n",
       "    </tr>\n",
       "    <tr>\n",
       "      <th>2025-03-01</th>\n",
       "      <td>605</td>\n",
       "      <td>0.027598</td>\n",
       "      <td>-0.853824</td>\n",
       "      <td>Momentum</td>\n",
       "      <td>0.000000</td>\n",
       "    </tr>\n",
       "    <tr>\n",
       "      <th>2025-04-01</th>\n",
       "      <td>621</td>\n",
       "      <td>0.015967</td>\n",
       "      <td>-0.853406</td>\n",
       "      <td>Momentum</td>\n",
       "      <td>-0.022580</td>\n",
       "    </tr>\n",
       "    <tr>\n",
       "      <th>2025-05-01</th>\n",
       "      <td>604</td>\n",
       "      <td>0.009423</td>\n",
       "      <td>1.000000</td>\n",
       "      <td>Mean Reversion</td>\n",
       "      <td>0.023362</td>\n",
       "    </tr>\n",
       "    <tr>\n",
       "      <th>2025-06-01</th>\n",
       "      <td>637</td>\n",
       "      <td>0.005870</td>\n",
       "      <td>-0.854799</td>\n",
       "      <td>Momentum</td>\n",
       "      <td>0.054636</td>\n",
       "    </tr>\n",
       "    <tr>\n",
       "      <th>2025-07-01</th>\n",
       "      <td>640</td>\n",
       "      <td>0.007075</td>\n",
       "      <td>-0.855667</td>\n",
       "      <td>Momentum</td>\n",
       "      <td>-0.004026</td>\n",
       "    </tr>\n",
       "    <tr>\n",
       "      <th>2025-08-01</th>\n",
       "      <td>646</td>\n",
       "      <td>0.004193</td>\n",
       "      <td>-0.856082</td>\n",
       "      <td>Momentum</td>\n",
       "      <td>-0.008022</td>\n",
       "    </tr>\n",
       "    <tr>\n",
       "      <th>2025-09-01</th>\n",
       "      <td>679</td>\n",
       "      <td>0.004583</td>\n",
       "      <td>-0.857003</td>\n",
       "      <td>Momentum</td>\n",
       "      <td>-0.043732</td>\n",
       "    </tr>\n",
       "  </tbody>\n",
       "</table>\n",
       "</div>"
      ],
      "text/plain": [
       "            SPY Price  VIX Slope  Trading Signal Active Strategy  \\\n",
       "Date                                                               \n",
       "2025-02-01        603   0.021137             NaN  Mean Reversion   \n",
       "2025-03-01        605   0.027598       -0.853824        Momentum   \n",
       "2025-04-01        621   0.015967       -0.853406        Momentum   \n",
       "2025-05-01        604   0.009423        1.000000  Mean Reversion   \n",
       "2025-06-01        637   0.005870       -0.854799        Momentum   \n",
       "2025-07-01        640   0.007075       -0.855667        Momentum   \n",
       "2025-08-01        646   0.004193       -0.856082        Momentum   \n",
       "2025-09-01        679   0.004583       -0.857003        Momentum   \n",
       "\n",
       "            Daily Strategy Return  \n",
       "Date                               \n",
       "2025-02-01               0.000000  \n",
       "2025-03-01               0.000000  \n",
       "2025-04-01              -0.022580  \n",
       "2025-05-01               0.023362  \n",
       "2025-06-01               0.054636  \n",
       "2025-07-01              -0.004026  \n",
       "2025-08-01              -0.008022  \n",
       "2025-09-01              -0.043732  "
      ]
     },
     "execution_count": 45,
     "metadata": {},
     "output_type": "execute_result"
    }
   ],
   "source": [
    "results_df = pd.DataFrame({ # grouping everything into a dataframe to show strategy switches and returns\n",
    "    'Date': forward_vix_slope['Period'], # we take the months from the forward vix slope dataframe\n",
    "    'SPY Price': spy_prices_pred_2025['Close'], # SPY prices forecasted for 2025\n",
    "    'VIX Slope': forward_vix_slope['vix_slope'], # forward VIX futures term structure slope\n",
    "    'Trading Signal': trading_signal, # trading signal previously generated\n",
    "    'Active Strategy': strategy_type, # switches between momentum and mean reversion\n",
    "    'Daily Strategy Return': strategy_returns\n",
    "})\n",
    "results_df.set_index('Date', inplace = True)\n",
    "results_df"
   ]
  },
  {
   "cell_type": "code",
   "execution_count": 46,
   "id": "fed4c150-d8a0-4423-8db0-7bd1e9510998",
   "metadata": {},
   "outputs": [
    {
     "data": {
      "image/png": "[encoded data removed]",
      "text/plain": [
       "<Figure size 1200x600 with 1 Axes>"
      ]
     },
     "metadata": {},
     "output_type": "display_data"
    }
   ],
   "source": [
    "# plotting portfolio value over the next 7/8 months\n",
    "plt.figure(figsize = (12, 6))\n",
    "plt.plot(forward_vix_slope['Period'], portfolio_value, label = 'Portfolio value evolution', color = 'blue')\n",
    "plt.xlabel('Date')\n",
    "plt.ylabel('Portfolio Value')\n",
    "plt.title('Portfolio value evolution - Momentum vs. Mean Reversion')\n",
    "plt.legend()\n",
    "plt.show()"
   ]
  },
  {
   "cell_type": "code",
   "execution_count": 47,
   "id": "c02d1707-b195-446f-a9b4-5fba8cf911cf",
   "metadata": {},
   "outputs": [
    {
     "data": {
      "image/png": "[encoded data removed]",
      "text/plain": [
       "<Figure size 1200x600 with 1 Axes>"
      ]
     },
     "metadata": {},
     "output_type": "display_data"
    }
   ],
   "source": [
    "plt.figure(figsize = (12, 6)) # plotting the table with strategy selection\n",
    "sns.heatmap(pd.DataFrame(strategy_type, index = forward_vix_slope['Period'], columns = ['Strategy']).T == \"Momentum\", \n",
    "            cmap = ['red', 'green'], cbar = False)\n",
    "plt.title(\"Evolution of strategy selection (Green = Momentum, Red = Mean Reversion)\")\n",
    "plt.show()"
   ]
  },
  {
   "cell_type": "code",
   "execution_count": null,
   "id": "c60416ca-1b52-4d20-b2ef-b99b8c3b4f20",
   "metadata": {},
   "outputs": [],
   "source": []
  },
  {
   "cell_type": "markdown",
   "id": "5e723d9b-37af-4143-b1b7-29a3c7dda2d2",
   "metadata": {},
   "source": [
    "# **Step 4: Backtesting**"
   ]
  },
  {
   "cell_type": "code",
   "execution_count": null,
   "id": "5b649997-7d81-49dc-8584-0963a7b82493",
   "metadata": {},
   "outputs": [],
   "source": []
  }
 ],
 "metadata": {
  "kernelspec": {
   "display_name": "Python 3 (ipykernel)",
   "language": "python",
   "name": "python3"
  },
  "language_info": {
   "codemirror_mode": {
    "name": "ipython",
    "version": 3
   },
   "file_extension": ".py",
   "mimetype": "text/x-python",
   "name": "python",
   "nbconvert_exporter": "python",
   "pygments_lexer": "ipython3",
   "version": "3.11.7"
  }
 },
 "nbformat": 4,
 "nbformat_minor": 5
}
