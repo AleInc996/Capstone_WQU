{
 "cells": [
  {
   "cell_type": "code",
   "execution_count": 1,
   "id": "f0be308e-8bfd-43ab-969e-719c752585d1",
   "metadata": {},
   "outputs": [],
   "source": [
    "# installing requirements from txt file\n",
    "#pip install -r requirements.txt"
   ]
  },
  {
   "cell_type": "code",
   "execution_count": 2,
   "id": "c22fe061-93b0-4c0c-9734-739447f3c684",
   "metadata": {},
   "outputs": [],
   "source": [
    "# importing necessary libraries\n",
    "import pandas as pd\n",
    "import numpy as np\n",
    "from tensorflow.keras.models import Sequential\n",
    "from tensorflow.keras.layers import Dense, LSTM, Dropout\n",
    "from sklearn.preprocessing import StandardScaler\n",
    "from sklearn.model_selection import train_test_split\n",
    "import yfinance as yf\n",
    "from datetime import datetime"
   ]
  },
  {
   "cell_type": "markdown",
   "id": "76174503-7d02-40be-aef3-52a71966cac1",
   "metadata": {},
   "source": [
    "# **Step 1: Data retrieval and indicators calculation**"
   ]
  },
  {
   "cell_type": "markdown",
   "id": "0bb11add-05d5-4cd9-a3c0-162ae5bb910b",
   "metadata": {},
   "source": [
    "The idea is to consider a portfolio made only of SPY ETF, as it has been seen that holding an ETF which replicates the Standard and Poor 500 can be one of the best investments you can make."
   ]
  },
  {
   "cell_type": "code",
   "execution_count": 3,
   "id": "e8a26c74-a4a2-4d2b-8630-30ce96f8a717",
   "metadata": {},
   "outputs": [
    {
     "name": "stderr",
     "output_type": "stream",
     "text": [
      "[*********************100%%**********************]  1 of 1 completed\n"
     ]
    },
    {
     "data": {
      "text/plain": [
       "Date\n",
       "2000-01-01     88.948593\n",
       "2000-02-01     87.594223\n",
       "2000-03-01     95.839806\n",
       "2000-04-01     92.708878\n",
       "2000-05-01     91.251236\n",
       "                 ...    \n",
       "2024-08-01    560.071289\n",
       "2024-09-01    570.086792\n",
       "2024-10-01    566.732605\n",
       "2024-11-01    600.528809\n",
       "2024-12-01    584.114075\n",
       "Name: Adj Close, Length: 300, dtype: float64"
      ]
     },
     "execution_count": 3,
     "metadata": {},
     "output_type": "execute_result"
    }
   ],
   "source": [
    "# downloading monthly prices of the SPY ETF, as VIX data will be monthly and therefore we keep returns as monthly\n",
    "spy_prices = yf.download('SPY', start = '2000-01-01', end = '2024-12-31', interval = '1mo')\n",
    "spy_prices = spy_prices['Adj Close']\n",
    "spy_prices"
   ]
  },
  {
   "cell_type": "code",
   "execution_count": 4,
   "id": "b79d8df0-5170-4982-98e8-6b2c20a6cbe4",
   "metadata": {},
   "outputs": [
    {
     "data": {
      "text/plain": [
       "Date\n",
       "2000-02-01   -0.015226\n",
       "2000-03-01    0.094134\n",
       "2000-04-01   -0.032668\n",
       "2000-05-01   -0.015723\n",
       "2000-06-01    0.017286\n",
       "                ...   \n",
       "2024-08-01    0.023365\n",
       "2024-09-01    0.017883\n",
       "2024-10-01   -0.005884\n",
       "2024-11-01    0.059633\n",
       "2024-12-01   -0.027334\n",
       "Name: Adj Close, Length: 299, dtype: float64"
      ]
     },
     "execution_count": 4,
     "metadata": {},
     "output_type": "execute_result"
    }
   ],
   "source": [
    "spy_rets = spy_prices.pct_change().dropna()\n",
    "spy_rets"
   ]
  },
  {
   "cell_type": "markdown",
   "id": "b3b8b83c-bb1e-419a-9699-9e9bc6aa7000",
   "metadata": {},
   "source": [
    "Next, we upload VIX future (UX1 index) term structure data downloaded from Bloomberg as of 1/17/2025:"
   ]
  },
  {
   "cell_type": "code",
   "execution_count": 14,
   "id": "548427c1-8472-46cd-838b-a51c5055b92b",
   "metadata": {},
   "outputs": [
    {
     "data": {
      "text/html": [
       "<div>\n",
       "<style scoped>\n",
       "    .dataframe tbody tr th:only-of-type {\n",
       "        vertical-align: middle;\n",
       "    }\n",
       "\n",
       "    .dataframe tbody tr th {\n",
       "        vertical-align: top;\n",
       "    }\n",
       "\n",
       "    .dataframe thead th {\n",
       "        text-align: right;\n",
       "    }\n",
       "</style>\n",
       "<table border=\"1\" class=\"dataframe\">\n",
       "  <thead>\n",
       "    <tr style=\"text-align: right;\">\n",
       "      <th></th>\n",
       "      <th>Tenor</th>\n",
       "      <th>Ticker</th>\n",
       "      <th>Period</th>\n",
       "      <th>Last Price</th>\n",
       "      <th>Days to expiration</th>\n",
       "    </tr>\n",
       "  </thead>\n",
       "  <tbody>\n",
       "    <tr>\n",
       "      <th>1</th>\n",
       "      <td>Spot</td>\n",
       "      <td>VIX Index</td>\n",
       "      <td>Spot</td>\n",
       "      <td>15.9700</td>\n",
       "      <td>0.0</td>\n",
       "    </tr>\n",
       "    <tr>\n",
       "      <th>2</th>\n",
       "      <td>1M</td>\n",
       "      <td>UXF5 Index</td>\n",
       "      <td>01/2025</td>\n",
       "      <td>16.1792</td>\n",
       "      <td>30.0</td>\n",
       "    </tr>\n",
       "    <tr>\n",
       "      <th>3</th>\n",
       "      <td>1M</td>\n",
       "      <td>UXG5 Index</td>\n",
       "      <td>02/2025</td>\n",
       "      <td>17.2382</td>\n",
       "      <td>60.0</td>\n",
       "    </tr>\n",
       "    <tr>\n",
       "      <th>4</th>\n",
       "      <td>2M</td>\n",
       "      <td>UXH5 Index</td>\n",
       "      <td>03/2025</td>\n",
       "      <td>17.8351</td>\n",
       "      <td>90.0</td>\n",
       "    </tr>\n",
       "    <tr>\n",
       "      <th>5</th>\n",
       "      <td>3M</td>\n",
       "      <td>UXJ5 Index</td>\n",
       "      <td>04/2025</td>\n",
       "      <td>18.1962</td>\n",
       "      <td>120.0</td>\n",
       "    </tr>\n",
       "    <tr>\n",
       "      <th>6</th>\n",
       "      <td>4M</td>\n",
       "      <td>UXK5 Index</td>\n",
       "      <td>05/2025</td>\n",
       "      <td>18.4005</td>\n",
       "      <td>150.0</td>\n",
       "    </tr>\n",
       "    <tr>\n",
       "      <th>7</th>\n",
       "      <td>5M</td>\n",
       "      <td>UXM5 Index</td>\n",
       "      <td>06/2025</td>\n",
       "      <td>18.5484</td>\n",
       "      <td>180.0</td>\n",
       "    </tr>\n",
       "    <tr>\n",
       "      <th>8</th>\n",
       "      <td>6M</td>\n",
       "      <td>UXN5 Index</td>\n",
       "      <td>07/2025</td>\n",
       "      <td>18.8250</td>\n",
       "      <td>210.0</td>\n",
       "    </tr>\n",
       "    <tr>\n",
       "      <th>9</th>\n",
       "      <td>7M</td>\n",
       "      <td>UXQ5 Index</td>\n",
       "      <td>08/2025</td>\n",
       "      <td>18.8000</td>\n",
       "      <td>240.0</td>\n",
       "    </tr>\n",
       "    <tr>\n",
       "      <th>10</th>\n",
       "      <td>8M</td>\n",
       "      <td>UXU5 Index</td>\n",
       "      <td>09/2025</td>\n",
       "      <td>19.1000</td>\n",
       "      <td>270.0</td>\n",
       "    </tr>\n",
       "  </tbody>\n",
       "</table>\n",
       "</div>"
      ],
      "text/plain": [
       "   Tenor      Ticker   Period  Last Price  Days to expiration\n",
       "1   Spot   VIX Index     Spot     15.9700                 0.0\n",
       "2     1M  UXF5 Index  01/2025     16.1792                30.0\n",
       "3     1M  UXG5 Index  02/2025     17.2382                60.0\n",
       "4     2M  UXH5 Index  03/2025     17.8351                90.0\n",
       "5     3M  UXJ5 Index  04/2025     18.1962               120.0\n",
       "6     4M  UXK5 Index  05/2025     18.4005               150.0\n",
       "7     5M  UXM5 Index  06/2025     18.5484               180.0\n",
       "8     6M  UXN5 Index  07/2025     18.8250               210.0\n",
       "9     7M  UXQ5 Index  08/2025     18.8000               240.0\n",
       "10    8M  UXU5 Index  09/2025     19.1000               270.0"
      ]
     },
     "execution_count": 14,
     "metadata": {},
     "output_type": "execute_result"
    }
   ],
   "source": [
    "vix_data = pd.read_excel('VIX_term_structure_20250117.xlsx', header = 0)\n",
    "vix_data = vix_data.drop(vix_data.index[0]) # removing first unnecessary row\n",
    "vix_data"
   ]
  },
  {
   "cell_type": "code",
   "execution_count": 47,
   "id": "0615fe4c-0333-41b7-9943-2c390c695959",
   "metadata": {},
   "outputs": [],
   "source": [
    "# creating functions for the three indicators which will compose the innovative part of our approach\n",
    "\n",
    "def rolling_std(series, time_interval): # defining a function for volatility, which we consider as rolling standard deviation\n",
    "    return series.rolling(window = time_interval).std()\n",
    "\n",
    "def rolling_correlation(series1, series2, time_interval): # defining a function for the rolling correlation\n",
    "    return series1.rolling(window = time_interval).corr(series2)\n",
    "\n",
    "def ROC(series): # defining a function for the Rate Of Change\n",
    "    return series.pct_change()"
   ]
  },
  {
   "cell_type": "markdown",
   "id": "556883a5-300e-489d-9f16-d1cc93470ef4",
   "metadata": {},
   "source": [
    "Now we are going to define a function that will create a new term structure with newly calculated prices.\n",
    "The prices will be calculated via linear interpolation with a targeted maturity, so that the new term structure is characterized by constant maturity."
   ]
  },
  {
   "cell_type": "code",
   "execution_count": 26,
   "id": "58cedc53-7bca-40ca-92a1-e9e0ccbd49f2",
   "metadata": {},
   "outputs": [],
   "source": [
    "def constant_maturity_term_structure(data, target_maturity):\n",
    "    \"\"\"\n",
    "    This function computes the linear interpolation of VIX futures prices \n",
    "    for generating a constant maturity term structure.\n",
    "    \n",
    "    It takes the VIX dataframe with prices and days to expiration,\n",
    "    together with a target maturity, expressed in days, as inputs,\n",
    "    and will return the interpolated prices of the VIX futures.\n",
    "    \"\"\"\n",
    "    constant_prices = [] # pre-allocating memory for the prices calculated via constant maturity term structure\n",
    "    \n",
    "    for target in target_maturity: # we will be looping over all maturities included in the table\n",
    "        before = data[data[\"Days to expiration\"] <= target] # looking for the nearest earlier contract for interpolation\n",
    "        after = data[data[\"Days to expiration\"] > target] # looking for the nearest later contract for interpolation\n",
    "\n",
    "        # for different maturities, there will be cases where we won't have the directly close value, therefore\n",
    "        if before.empty:  # if the price on the earlier place is empty\n",
    "            price = after.iloc[0][\"Last Price\"]  # we will take the earliest available price\n",
    "        elif after.empty:  # if the price on the later place is empty\n",
    "            price = before.iloc[-1][\"Last Price\"]  # use the latest available\n",
    "        else:\n",
    "            # otherwise\n",
    "            before = before.iloc[-1] # the earlier price is normally identified\n",
    "            after = after.iloc[0] # the later price is normally identified\n",
    "            price = before[\"Last Price\"] + (\n",
    "                (after[\"Last Price\"] - before[\"Last Price\"]) /\n",
    "                (after[\"Days to expiration\"] - before[\"Days to expiration\"]) *\n",
    "                (target - before[\"Days to expiration\"])\n",
    "            ) # here we calculate linear interpolation through a commonly accepted and recognized formula\n",
    "        \n",
    "        constant_prices.append(price) # for each iteration of the loop, we append the newly calculated price to the originally created variable\n",
    "    \n",
    "    return constant_prices # the function will return the newly calculated prices"
   ]
  },
  {
   "cell_type": "markdown",
   "id": "506cfc5a-bd2a-497c-8e8f-fbde8796a051",
   "metadata": {},
   "source": [
    "Running the function for our data:"
   ]
  },
  {
   "cell_type": "code",
   "execution_count": 44,
   "id": "5ecac885-827e-432a-bbab-12a57f24b3d1",
   "metadata": {},
   "outputs": [
    {
     "name": "stdout",
     "output_type": "stream",
     "text": [
      "Constant Maturity Term Structure:\n",
      "   Constant Maturity (Days)    Price\n",
      "0                        30  16.1792\n",
      "1                        60  17.2382\n",
      "2                        90  17.8351\n",
      "3                       120  18.1962\n",
      "4                       150  18.4005\n",
      "5                       180  18.5484\n",
      "6                       210  18.8250\n",
      "7                       240  18.8000\n",
      "8                       270  19.1000\n"
     ]
    }
   ],
   "source": [
    "target_maturity = [30, 60, 90, 120, 150, 180, 210, 240, 270]  # here we define a variable for the target maturities and it will be all of them\n",
    "\n",
    "constant_maturity = constant_maturity_term_structure(vix_data, target_days) \n",
    "\n",
    "# Add the constant maturity prices to a DataFrame\n",
    "constant_maturity_df = pd.DataFrame({\n",
    "    \"Constant Maturity (Days)\": target_maturity,\n",
    "    \"Price\": constant_maturity\n",
    "})\n",
    "\n",
    "print(\"Constant Maturity Term Structure:\") # printing the new term structure, made of prices at constant maturity\n",
    "print(constant_maturity_df)"
   ]
  },
  {
   "cell_type": "markdown",
   "id": "36722965-81be-4fb3-bd85-fc88699c2cd7",
   "metadata": {},
   "source": [
    "Calculating the slope of the constant maturity VIX futures term structure in a normalized way, meaning with the difference in prices at the numerator and the difference in days at the denominator:"
   ]
  },
  {
   "cell_type": "code",
   "execution_count": 48,
   "id": "d7664bef-a4ad-4a4e-8d6e-1471d2048a37",
   "metadata": {},
   "outputs": [
    {
     "data": {
      "text/plain": [
       "1    0.035300\n",
       "2    0.019897\n",
       "3    0.012037\n",
       "4    0.006810\n",
       "5    0.004930\n",
       "6    0.009220\n",
       "7   -0.000833\n",
       "8    0.010000\n",
       "dtype: float64"
      ]
     },
     "execution_count": 48,
     "metadata": {},
     "output_type": "execute_result"
    }
   ],
   "source": [
    "vix_slope = constant_maturity_df[\"Price\"].diff() / constant_maturity_df[\"Constant Maturity (Days)\"].diff() # computing the slope of the term structure\n",
    "vix_slope = vix_slope.dropna()\n",
    "vix_slope"
   ]
  },
  {
   "cell_type": "markdown",
   "id": "b7a89fee-2888-46df-9b72-0c630dfe3e08",
   "metadata": {},
   "source": [
    "Using the previously defined three functions, we are computing the innovative indicators that we are going to use as a double check after the momentum transformer:"
   ]
  },
  {
   "cell_type": "code",
   "execution_count": 52,
   "id": "3eb0391d-5a7a-4a6c-ae21-a445c9f6bfa6",
   "metadata": {},
   "outputs": [
    {
     "name": "stdout",
     "output_type": "stream",
     "text": [
      "Date\n",
      "2000-11-01    0.051522\n",
      "2000-12-01    0.051391\n",
      "2001-01-01    0.043089\n",
      "2001-02-01    0.051015\n",
      "2001-03-01    0.052970\n",
      "                ...   \n",
      "2024-08-01    0.032780\n",
      "2024-09-01    0.025355\n",
      "2024-10-01    0.026244\n",
      "2024-11-01    0.029119\n",
      "2024-12-01    0.031262\n",
      "Name: Adj Close, Length: 290, dtype: float64\n",
      "Series([], dtype: float64)\n",
      "2    -0.436355\n",
      "3    -0.395041\n",
      "4    -0.434229\n",
      "5    -0.276065\n",
      "6     0.870183\n",
      "7    -1.090383\n",
      "8   -13.000000\n",
      "dtype: float64\n"
     ]
    }
   ],
   "source": [
    "vol_indicator = rolling_std(spy_rets, time_interval = 10).dropna() # calculating volatility indicator on the returns of SPY\n",
    "correlation_indicator = rolling_correlation(spy_rets, vix_slope, time_interval = 30).dropna()\n",
    "roc_indicator = ROC(vix_slope).dropna() # calculating rate of change of the VIX futures constant maturity term structure slope\n",
    "\n",
    "print(vol_indicator)"
   ]
  },
  {
   "cell_type": "code",
   "execution_count": 54,
   "id": "0c73f69e-6c5f-400d-9db4-79d6b18e6874",
   "metadata": {},
   "outputs": [
    {
     "name": "stdout",
     "output_type": "stream",
     "text": [
      "Series([], dtype: float64)\n"
     ]
    }
   ],
   "source": [
    "print(correlation_indicator)"
   ]
  },
  {
   "cell_type": "code",
   "execution_count": null,
   "id": "1b09bafb-e7b6-48de-9245-431e68f096c0",
   "metadata": {},
   "outputs": [],
   "source": [
    "print(roc_indicator)"
   ]
  }
 ],
 "metadata": {
  "kernelspec": {
   "display_name": "Python 3 (ipykernel)",
   "language": "python",
   "name": "python3"
  },
  "language_info": {
   "codemirror_mode": {
    "name": "ipython",
    "version": 3
   },
   "file_extension": ".py",
   "mimetype": "text/x-python",
   "name": "python",
   "nbconvert_exporter": "python",
   "pygments_lexer": "ipython3",
   "version": "3.11.7"
  }
 },
 "nbformat": 4,
 "nbformat_minor": 5
}
