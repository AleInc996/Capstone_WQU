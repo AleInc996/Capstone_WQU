{
 "cells": [
  {
   "cell_type": "code",
   "execution_count": 1,
   "id": "f0be308e-8bfd-43ab-969e-719c752585d1",
   "metadata": {},
   "outputs": [],
   "source": [
    "# installing requirements from txt file\n",
    "#pip install -r requirements.txt"
   ]
  },
  {
   "cell_type": "code",
   "execution_count": 2,
   "id": "c22fe061-93b0-4c0c-9734-739447f3c684",
   "metadata": {},
   "outputs": [],
   "source": [
    "# importing necessary libraries\n",
    "import pandas as pd\n",
    "import numpy as np\n",
    "from tensorflow.keras.models import Sequential\n",
    "from tensorflow.keras.layers import Dense, LSTM, Dropout\n",
    "from sklearn.preprocessing import StandardScaler\n",
    "from sklearn.model_selection import train_test_split\n",
    "import yfinance as yf\n",
    "from datetime import datetime"
   ]
  },
  {
   "cell_type": "markdown",
   "id": "76174503-7d02-40be-aef3-52a71966cac1",
   "metadata": {},
   "source": [
    "# **Step 1: Data retrieval and indicators calculation**"
   ]
  },
  {
   "cell_type": "markdown",
   "id": "0bb11add-05d5-4cd9-a3c0-162ae5bb910b",
   "metadata": {},
   "source": [
    "The idea is to consider a portfolio made only of SPY ETF, as it has been seen that holding an ETF which replicates the Standard and Poor 500 can be one of the best investments you can make."
   ]
  },
  {
   "cell_type": "code",
   "execution_count": 3,
   "id": "e8a26c74-a4a2-4d2b-8630-30ce96f8a717",
   "metadata": {},
   "outputs": [
    {
     "name": "stderr",
     "output_type": "stream",
     "text": [
      "[*********************100%%**********************]  1 of 1 completed\n"
     ]
    },
    {
     "data": {
      "text/plain": [
       "Date\n",
       "2000-01-01     88.948547\n",
       "2000-02-01     87.594208\n",
       "2000-03-01     95.839798\n",
       "2000-04-01     92.708809\n",
       "2000-05-01     91.251266\n",
       "                 ...    \n",
       "2024-08-01    560.071289\n",
       "2024-09-01    570.086792\n",
       "2024-10-01    566.732605\n",
       "2024-11-01    600.528809\n",
       "2024-12-01    584.114075\n",
       "Name: Adj Close, Length: 300, dtype: float64"
      ]
     },
     "execution_count": 3,
     "metadata": {},
     "output_type": "execute_result"
    }
   ],
   "source": [
    "# downloading monthly prices of the SPY ETF, as VIX data will be monthly and therefore we keep returns as monthly\n",
    "spy_prices = yf.download('SPY', start = '2000-01-01', end = '2024-12-31', interval = '1mo')\n",
    "spy_prices = spy_prices['Adj Close']\n",
    "spy_prices"
   ]
  },
  {
   "cell_type": "code",
   "execution_count": 4,
   "id": "b79d8df0-5170-4982-98e8-6b2c20a6cbe4",
   "metadata": {},
   "outputs": [
    {
     "data": {
      "text/plain": [
       "Date\n",
       "2000-02-01   -0.015226\n",
       "2000-03-01    0.094134\n",
       "2000-04-01   -0.032669\n",
       "2000-05-01   -0.015722\n",
       "2000-06-01    0.017286\n",
       "                ...   \n",
       "2024-08-01    0.023366\n",
       "2024-09-01    0.017883\n",
       "2024-10-01   -0.005884\n",
       "2024-11-01    0.059633\n",
       "2024-12-01   -0.027334\n",
       "Name: Adj Close, Length: 299, dtype: float64"
      ]
     },
     "execution_count": 4,
     "metadata": {},
     "output_type": "execute_result"
    }
   ],
   "source": [
    "spy_rets = spy_prices.pct_change().dropna()\n",
    "spy_rets"
   ]
  },
  {
   "cell_type": "markdown",
   "id": "b3b8b83c-bb1e-419a-9699-9e9bc6aa7000",
   "metadata": {},
   "source": [
    "Next, we upload VIX future (UX1 index) term structure data downloaded from Bloomberg as of 1/17/2025:"
   ]
  },
  {
   "cell_type": "code",
   "execution_count": 9,
   "id": "548427c1-8472-46cd-838b-a51c5055b92b",
   "metadata": {},
   "outputs": [
    {
     "data": {
      "text/html": [
       "<div>\n",
       "<style scoped>\n",
       "    .dataframe tbody tr th:only-of-type {\n",
       "        vertical-align: middle;\n",
       "    }\n",
       "\n",
       "    .dataframe tbody tr th {\n",
       "        vertical-align: top;\n",
       "    }\n",
       "\n",
       "    .dataframe thead th {\n",
       "        text-align: right;\n",
       "    }\n",
       "</style>\n",
       "<table border=\"1\" class=\"dataframe\">\n",
       "  <thead>\n",
       "    <tr style=\"text-align: right;\">\n",
       "      <th></th>\n",
       "      <th>Tenor</th>\n",
       "      <th>Ticker</th>\n",
       "      <th>Period</th>\n",
       "      <th>Last Price</th>\n",
       "      <th>Days to expiration</th>\n",
       "    </tr>\n",
       "  </thead>\n",
       "  <tbody>\n",
       "    <tr>\n",
       "      <th>1</th>\n",
       "      <td>Spot</td>\n",
       "      <td>VIX Index</td>\n",
       "      <td>Spot</td>\n",
       "      <td>15.9700</td>\n",
       "      <td>0.0</td>\n",
       "    </tr>\n",
       "    <tr>\n",
       "      <th>2</th>\n",
       "      <td>1M</td>\n",
       "      <td>UXF5 Index</td>\n",
       "      <td>01/2025</td>\n",
       "      <td>16.1792</td>\n",
       "      <td>30.0</td>\n",
       "    </tr>\n",
       "    <tr>\n",
       "      <th>3</th>\n",
       "      <td>1M</td>\n",
       "      <td>UXG5 Index</td>\n",
       "      <td>02/2025</td>\n",
       "      <td>17.2382</td>\n",
       "      <td>60.0</td>\n",
       "    </tr>\n",
       "    <tr>\n",
       "      <th>4</th>\n",
       "      <td>2M</td>\n",
       "      <td>UXH5 Index</td>\n",
       "      <td>03/2025</td>\n",
       "      <td>17.8351</td>\n",
       "      <td>90.0</td>\n",
       "    </tr>\n",
       "    <tr>\n",
       "      <th>5</th>\n",
       "      <td>3M</td>\n",
       "      <td>UXJ5 Index</td>\n",
       "      <td>04/2025</td>\n",
       "      <td>18.1962</td>\n",
       "      <td>120.0</td>\n",
       "    </tr>\n",
       "    <tr>\n",
       "      <th>6</th>\n",
       "      <td>4M</td>\n",
       "      <td>UXK5 Index</td>\n",
       "      <td>05/2025</td>\n",
       "      <td>18.4005</td>\n",
       "      <td>150.0</td>\n",
       "    </tr>\n",
       "    <tr>\n",
       "      <th>7</th>\n",
       "      <td>5M</td>\n",
       "      <td>UXM5 Index</td>\n",
       "      <td>06/2025</td>\n",
       "      <td>18.5484</td>\n",
       "      <td>180.0</td>\n",
       "    </tr>\n",
       "    <tr>\n",
       "      <th>8</th>\n",
       "      <td>6M</td>\n",
       "      <td>UXN5 Index</td>\n",
       "      <td>07/2025</td>\n",
       "      <td>18.8250</td>\n",
       "      <td>210.0</td>\n",
       "    </tr>\n",
       "    <tr>\n",
       "      <th>9</th>\n",
       "      <td>7M</td>\n",
       "      <td>UXQ5 Index</td>\n",
       "      <td>08/2025</td>\n",
       "      <td>18.8000</td>\n",
       "      <td>240.0</td>\n",
       "    </tr>\n",
       "    <tr>\n",
       "      <th>10</th>\n",
       "      <td>8M</td>\n",
       "      <td>UXU5 Index</td>\n",
       "      <td>09/2025</td>\n",
       "      <td>19.1000</td>\n",
       "      <td>270.0</td>\n",
       "    </tr>\n",
       "  </tbody>\n",
       "</table>\n",
       "</div>"
      ],
      "text/plain": [
       "   Tenor      Ticker   Period  Last Price  Days to expiration\n",
       "1   Spot   VIX Index     Spot     15.9700                 0.0\n",
       "2     1M  UXF5 Index  01/2025     16.1792                30.0\n",
       "3     1M  UXG5 Index  02/2025     17.2382                60.0\n",
       "4     2M  UXH5 Index  03/2025     17.8351                90.0\n",
       "5     3M  UXJ5 Index  04/2025     18.1962               120.0\n",
       "6     4M  UXK5 Index  05/2025     18.4005               150.0\n",
       "7     5M  UXM5 Index  06/2025     18.5484               180.0\n",
       "8     6M  UXN5 Index  07/2025     18.8250               210.0\n",
       "9     7M  UXQ5 Index  08/2025     18.8000               240.0\n",
       "10    8M  UXU5 Index  09/2025     19.1000               270.0"
      ]
     },
     "execution_count": 9,
     "metadata": {},
     "output_type": "execute_result"
    }
   ],
   "source": [
    "vix_data = pd.read_excel('VIX_term_structure_20250117.xlsx', header = 0)\n",
    "vix_data = vix_data.drop(vix_data.index[0]) # removing first unnecessary row\n",
    "vix_data"
   ]
  },
  {
   "cell_type": "code",
   "execution_count": 50,
   "id": "f27468b5-3a54-4724-9943-c4f4d5f8c692",
   "metadata": {},
   "outputs": [],
   "source": [
    "def constant_maturity_term_structure(data, maturity_target): # TO MODIFY AND TO DO FOR ALL MATURITIES\n",
    "    \"\"\"\n",
    "    This function computes the linear interpolation of VIX futures prices \n",
    "    for generating a constant maturity term structure.\n",
    "    \n",
    "    It takes the VIX dataframe with prices and days to expiration,\n",
    "    together with a target maturity, expressed in days, as inputs,\n",
    "    and will return the interpolated prices of the VIX futures.\n",
    "    \"\"\"\n",
    "    before = data[data[\"Days to expiration\"] <= maturity_target] # looking for the nearest earlier contract for interpolation\n",
    "    after = data[data[\"Days to expiration\"] > maturity_target] # looking for the nearest later contract for interpolation\n",
    "\n",
    "    if before.empty or after.empty:\n",
    "        raise ValueError(\"Missing near contracts needed for linear interpolation formula.\")\n",
    "\n",
    "    lower = before.iloc[-1] # selecting the earlier nearest contracts\n",
    "    upper = after.iloc[0] # selecting the later nearest contracts\n",
    "\n",
    "    # linear interpolation\n",
    "    weight_upper = (maturity_target - lower[\"Days to expiration\"]) / (upper[\"Days to expiration\"] - lower[\"Days to expiration\"])\n",
    "    weight_lower = 1 - weight_upper # the weight of the earlier contract is the complementary of the other one\n",
    "\n",
    "    return lower[\"Last Price\"] * weight_lower + upper[\"Last Price\"] * weight_upper # new interpolated price"
   ]
  },
  {
   "cell_type": "code",
   "execution_count": 51,
   "id": "8a92a915-7d96-45d4-a5eb-2cf66464619a",
   "metadata": {},
   "outputs": [
    {
     "data": {
      "text/plain": [
       "16.1792"
      ]
     },
     "execution_count": 51,
     "metadata": {},
     "output_type": "execute_result"
    }
   ],
   "source": [
    "constant_maturity_term_structure(vix_data, 30)"
   ]
  },
  {
   "cell_type": "code",
   "execution_count": null,
   "id": "0615fe4c-0333-41b7-9943-2c390c695959",
   "metadata": {},
   "outputs": [],
   "source": [
    "# creating functions for the three indicators which will compose the innovative part of our approach\n",
    "\n",
    "def rolling_std(series, time_interval): # defining a function for volatility, which we consider as rolling standard deviation\n",
    "    return series.rolling(window = time_interval).std()\n",
    "\n",
    "def rolling_correlation(series1, series2, time_interval): # defining a function for the rolling correlation\n",
    "    return series1.rolling(window = time_interval).corr(series2)\n",
    "\n",
    "def ROC(series): # defining a function for the Rate Of Change\n",
    "    return series.pct_change()"
   ]
  },
  {
   "cell_type": "code",
   "execution_count": null,
   "id": "5271cce6-a366-4da3-92e3-e7a56d2e9b0f",
   "metadata": {},
   "outputs": [],
   "source": []
  }
 ],
 "metadata": {
  "kernelspec": {
   "display_name": "Python 3 (ipykernel)",
   "language": "python",
   "name": "python3"
  },
  "language_info": {
   "codemirror_mode": {
    "name": "ipython",
    "version": 3
   },
   "file_extension": ".py",
   "mimetype": "text/x-python",
   "name": "python",
   "nbconvert_exporter": "python",
   "pygments_lexer": "ipython3",
   "version": "3.11.7"
  }
 },
 "nbformat": 4,
 "nbformat_minor": 5
}
